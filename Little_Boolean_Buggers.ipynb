{
  "cells": [
    {
      "metadata": {
        "collapsed": true,
        "slideshow": {
          "slide_type": "slide"
        }
      },
      "cell_type": "markdown",
      "source": "# Little Buggers\n\nLet's talk of (literally) little buggers - _True_ and _False_, AKA booleans. \n\nOur esteemed C++ colleagues know that they are just another form for 0 and 1."
    },
    {
      "metadata": {
        "collapsed": true,
        "slideshow": {
          "slide_type": "slide"
        }
      },
      "cell_type": "markdown",
      "source": "## What about Python? \nThose buggers are objects in their own right!"
    },
    {
      "metadata": {
        "trusted": true,
        "slideshow": {
          "slide_type": "fragment"
        }
      },
      "cell_type": "code",
      "source": "print(f'Zero is {id(0)}, False is {id(False)}')",
      "execution_count": null,
      "outputs": []
    },
    {
      "metadata": {
        "trusted": true,
        "slideshow": {
          "slide_type": "fragment"
        }
      },
      "cell_type": "code",
      "source": "print(f'One is {id(1)}, True is {id(True)}')",
      "execution_count": null,
      "outputs": []
    },
    {
      "metadata": {
        "collapsed": true,
        "slideshow": {
          "slide_type": "slide"
        }
      },
      "cell_type": "markdown",
      "source": "## So, _True_ and _False_ Are Just Booleans..."
    },
    {
      "metadata": {
        "collapsed": true,
        "slideshow": {
          "slide_type": "fragment"
        }
      },
      "cell_type": "markdown",
      "source": "### Like hell they are! "
    },
    {
      "metadata": {
        "collapsed": true,
        "slideshow": {
          "slide_type": "fragment"
        }
      },
      "cell_type": "markdown",
      "source": "But - talk is cheap. Let me show you. I will define a small function to help me along the way."
    },
    {
      "metadata": {
        "trusted": true
      },
      "cell_type": "code",
      "source": "def even(num):\n    return num % 2 == 0",
      "execution_count": null,
      "outputs": []
    },
    {
      "metadata": {
        "slideshow": {
          "slide_type": "slide"
        }
      },
      "cell_type": "markdown",
      "source": "#### Let's see where we can use booleans as integers"
    },
    {
      "metadata": {
        "slideshow": {
          "slide_type": "fragment"
        }
      },
      "cell_type": "markdown",
      "source": " - in list indices - instead of \n ```Python\nis_even = 'Even' if even(number) else 'Odd'\n```"
    },
    {
      "metadata": {
        "trusted": true,
        "slideshow": {
          "slide_type": "fragment"
        }
      },
      "cell_type": "code",
      "source": "[\"Odd\", \"Even\"][even(24)]\n",
      "execution_count": null,
      "outputs": []
    },
    {
      "metadata": {
        "trusted": true,
        "slideshow": {
          "slide_type": "fragment"
        }
      },
      "cell_type": "code",
      "source": "[\"Odd\", \"Even\"][even(13)]",
      "execution_count": null,
      "outputs": []
    },
    {
      "metadata": {
        "slideshow": {
          "slide_type": "slide"
        }
      },
      "cell_type": "markdown",
      "source": " - in arithmetical expressions - instead of\n\n```python\nif even(number):\n    evens_count += 1\n```"
    },
    {
      "metadata": {
        "trusted": true,
        "slideshow": {
          "slide_type": "fragment"
        }
      },
      "cell_type": "code",
      "source": "evens_count = 0\nevens_count += even(24)\nevens_count",
      "execution_count": null,
      "outputs": []
    },
    {
      "metadata": {
        "slideshow": {
          "slide_type": "fragment"
        },
        "trusted": true
      },
      "cell_type": "code",
      "source": "evens_count += even(13)\nevens_count",
      "execution_count": null,
      "outputs": []
    },
    {
      "metadata": {
        "slideshow": {
          "slide_type": "slide"
        }
      },
      "cell_type": "markdown",
      "source": " - or just sum booleans - as you would integers"
    },
    {
      "metadata": {
        "trusted": true,
        "slideshow": {
          "slide_type": "fragment"
        }
      },
      "cell_type": "code",
      "source": "sum(map(even, range(1, 20, 3)))",
      "execution_count": null,
      "outputs": []
    },
    {
      "metadata": {
        "slideshow": {
          "slide_type": "fragment"
        },
        "trusted": true
      },
      "cell_type": "code",
      "source": "texts = ['Hello world\\nFiller\\nHello world', 'Filler\\nHello world\\nFiller']\nsum('Hello world' in line for text in texts\n   for line in text.splitlines())",
      "execution_count": null,
      "outputs": []
    },
    {
      "metadata": {
        "slideshow": {
          "slide_type": "slide"
        }
      },
      "cell_type": "markdown",
      "source": " - you can multiply strings by booleans"
    },
    {
      "metadata": {
        "trusted": true,
        "slideshow": {
          "slide_type": "-"
        }
      },
      "cell_type": "code",
      "source": "apples = 3\noranges = 1",
      "execution_count": null,
      "outputs": []
    },
    {
      "metadata": {
        "slideshow": {
          "slide_type": "fragment"
        },
        "trusted": true
      },
      "cell_type": "code",
      "source": "f'I have {apples} apple{\"s\" * (apples > 1)}' ",
      "execution_count": null,
      "outputs": []
    },
    {
      "metadata": {
        "slideshow": {
          "slide_type": "fragment"
        },
        "trusted": true
      },
      "cell_type": "code",
      "source": "f'I have {oranges} orange{\"s\" * (oranges > 1)}'",
      "execution_count": null,
      "outputs": []
    },
    {
      "metadata": {
        "slideshow": {
          "slide_type": "slide"
        }
      },
      "cell_type": "markdown",
      "source": "## Is That All?"
    },
    {
      "metadata": {
        "slideshow": {
          "slide_type": "fragment"
        }
      },
      "cell_type": "markdown",
      "source": "Well, it's Python...."
    },
    {
      "metadata": {
        "slideshow": {
          "slide_type": "slide"
        }
      },
      "cell_type": "markdown",
      "source": "### What is _True_ and _False_ in C?\n* zero value may be implicitly interpreted as _False_\n* non-zero integer - as _True_"
    },
    {
      "metadata": {
        "slideshow": {
          "slide_type": "slide"
        }
      },
      "cell_type": "markdown",
      "source": "### What is _False_ and _True_ in Python?\n**Any scalar or iterable value may be implicitly used as _boolean_:**\n* str\n* list\n* dict\n* tuple\n* set\n* None"
    },
    {
      "metadata": {
        "slideshow": {
          "slide_type": "slide"
        }
      },
      "cell_type": "markdown",
      "source": "Empty iterable values in a boolean expression are equivalent to _False_, and non-empty - to _True_. "
    },
    {
      "metadata": {
        "trusted": true,
        "slideshow": {
          "slide_type": "fragment"
        }
      },
      "cell_type": "code",
      "source": "print(*map(bool, ([], [1], set(), {1}, dict(), {1:1}, '', 'True', None)))",
      "execution_count": null,
      "outputs": []
    },
    {
      "metadata": {
        "slideshow": {
          "slide_type": "slide"
        }
      },
      "cell_type": "markdown",
      "source": "### But You Probably know all that\nAnything more? As a matter of fact - yes!"
    },
    {
      "metadata": {
        "slideshow": {
          "slide_type": "slide"
        }
      },
      "cell_type": "markdown",
      "source": "## A Boolean Trap in Python"
    },
    {
      "metadata": {
        "slideshow": {
          "slide_type": "fragment"
        }
      },
      "cell_type": "markdown",
      "source": "Consider a mystery for many newbies on Python forums - why the hell does it work like that?"
    },
    {
      "metadata": {
        "trusted": true,
        "slideshow": {
          "slide_type": "fragment"
        }
      },
      "cell_type": "code",
      "source": "answer = 'N'\nif answer == 'Y' or 'y':\n    print('Excellent')",
      "execution_count": null,
      "outputs": []
    },
    {
      "metadata": {
        "slideshow": {
          "slide_type": "subslide"
        }
      },
      "cell_type": "markdown",
      "source": "### What has just happened? "
    },
    {
      "metadata": {
        "slideshow": {
          "slide_type": "fragment"
        }
      },
      "cell_type": "markdown",
      "source": "One interesting detail about boolean operations in Python - \n\n**their result is not necessary boolean!** \n\nBut let's start with a little clarification:"
    },
    {
      "metadata": {
        "slideshow": {
          "slide_type": "slide"
        }
      },
      "cell_type": "markdown",
      "source": "### So, what is the value of the expression under *if* we saw before?"
    },
    {
      "metadata": {
        "trusted": true,
        "slideshow": {
          "slide_type": "fragment"
        }
      },
      "cell_type": "code",
      "source": "answer == 'Y' or 'y'",
      "execution_count": null,
      "outputs": []
    },
    {
      "metadata": {
        "slideshow": {
          "slide_type": "fragment"
        }
      },
      "cell_type": "markdown",
      "source": "Surprise, surprise!"
    },
    {
      "metadata": {
        "slideshow": {
          "slide_type": "slide"
        }
      },
      "cell_type": "markdown",
      "source": "### How is it possible?"
    },
    {
      "metadata": {
        "slideshow": {
          "slide_type": "fragment"
        }
      },
      "cell_type": "markdown",
      "source": " **and** and **or** in Python evaluate to the value of the latest expression element which defines the final result - be it _True_ or _False_ equivalent, with standard shortcircuit applied"
    },
    {
      "metadata": {
        "trusted": true,
        "slideshow": {
          "slide_type": "subslide"
        }
      },
      "cell_type": "code",
      "source": "number = 25\nprint(f'Now you get boolean - {number and True}')\nprint(f'Now you get integer - {True and number}')\nprint(f'You OR and get full evaluation to \"None\" - {False or None}')\nprint(f'You OR and get full evaluation to \"False\" - {None or False}')\nprint(f'You AND and short-circuit to \"False\" - {False and None}')\nprint(f'You AND and short-circuit to \"None\" - {None and False}')",
      "execution_count": null,
      "outputs": []
    },
    {
      "metadata": {
        "slideshow": {
          "slide_type": "subslide"
        }
      },
      "cell_type": "markdown",
      "source": "**Boolean expressions with non-boolean results may be used instead of _if/else_ constructs**"
    },
    {
      "metadata": {
        "trusted": true,
        "slideshow": {
          "slide_type": "fragment"
        }
      },
      "cell_type": "code",
      "source": "f'Your number is {even(number) and \"Even\" or \"Odd\"}'",
      "execution_count": null,
      "outputs": []
    },
    {
      "metadata": {
        "slideshow": {
          "slide_type": "fragment"
        },
        "trusted": true
      },
      "cell_type": "code",
      "source": "print(even(number) and 'Even' or 'Odd')",
      "execution_count": null,
      "outputs": []
    },
    {
      "metadata": {
        "slideshow": {
          "slide_type": "fragment"
        }
      },
      "cell_type": "markdown",
      "source": "Beware - **not everyone is a fan!** \n\nAnd with a good reason. "
    },
    {
      "metadata": {
        "slideshow": {
          "slide_type": "slide"
        }
      },
      "cell_type": "markdown",
      "source": "You want to set a value to empty if it is something you expect by default."
    },
    {
      "metadata": {
        "slideshow": {
          "slide_type": "fragment"
        },
        "trusted": true
      },
      "cell_type": "code",
      "source": "value = 'Python'\ngood_result = value != 'Python3' and value or ''\ngood_result",
      "execution_count": null,
      "outputs": []
    },
    {
      "metadata": {
        "slideshow": {
          "slide_type": "fragment"
        },
        "trusted": true
      },
      "cell_type": "code",
      "source": "bad_result = value == 'Python3' and '' or value \nbad_result ",
      "execution_count": null,
      "outputs": []
    },
    {
      "metadata": {
        "slideshow": {
          "slide_type": "fragment"
        },
        "trusted": true
      },
      "cell_type": "code",
      "source": "value != 'Python3' and value",
      "execution_count": null,
      "outputs": []
    },
    {
      "metadata": {
        "slideshow": {
          "slide_type": "fragment"
        },
        "trusted": true
      },
      "cell_type": "code",
      "source": "value == 'Python3' and ''",
      "execution_count": null,
      "outputs": []
    },
    {
      "metadata": {
        "slideshow": {
          "slide_type": "fragment"
        }
      },
      "cell_type": "markdown",
      "source": "**Order is everything**"
    },
    {
      "metadata": {
        "slideshow": {
          "slide_type": "slide"
        }
      },
      "cell_type": "markdown",
      "source": "### How Does It Work?"
    },
    {
      "metadata": {
        "trusted": true,
        "slideshow": {
          "slide_type": "fragment"
        }
      },
      "cell_type": "code",
      "source": "import dis\ndis.dis('x and y')",
      "execution_count": null,
      "outputs": []
    },
    {
      "metadata": {
        "slideshow": {
          "slide_type": "fragment"
        },
        "trusted": true
      },
      "cell_type": "code",
      "source": "dis.dis('a or b')",
      "execution_count": null,
      "outputs": []
    },
    {
      "metadata": {
        "slideshow": {
          "slide_type": "fragment"
        }
      },
      "cell_type": "markdown",
      "source": "__Interpreter does not care about the type of any variable. Truthiness of the values define the result.__"
    },
    {
      "metadata": {
        "slideshow": {
          "slide_type": "slide"
        }
      },
      "cell_type": "markdown",
      "source": "### Bonus Slide - FizzBuzz\n\nEver heard of *FizzBuzz* interview question? \n\nCreate a function that accepts a number and returns:\n - *FizzBuzz* if the number is divisible by 15 else\n - *Fizz* if the number is divisible by 3 else\n - *Buzz* if the number is divisible by 5 else\n - the number\n\n"
    },
    {
      "metadata": {
        "slideshow": {
          "slide_type": "slide"
        }
      },
      "cell_type": "markdown",
      "source": "#### Traditional solution"
    },
    {
      "metadata": {
        "slideshow": {
          "slide_type": "-"
        },
        "trusted": true
      },
      "cell_type": "code",
      "source": "def fizz_buzz(num):\n    result = ''\n    if not num % 3:\n        result += 'Fizz'\n    if not num % 5:\n        result += 'Buzz'\n    if not result:\n        return num\n    return result\n\nprint(*(fizz_buzz(n) for n in range(1, 20)))",
      "execution_count": 1,
      "outputs": [
        {
          "output_type": "stream",
          "text": "1 2 Fizz 4 Buzz Fizz 7 8 Fizz Buzz 11 Fizz 13 14 FizzBuzz 16 17 Fizz 19\n",
          "name": "stdout"
        }
      ]
    },
    {
      "metadata": {
        "slideshow": {
          "slide_type": "fragment"
        }
      },
      "cell_type": "markdown",
      "source": "#### Based on the lessons learned?"
    },
    {
      "metadata": {
        "slideshow": {
          "slide_type": "fragment"
        },
        "trusted": true
      },
      "cell_type": "code",
      "source": "def fizz_buzz_(num):\n    return 'Fizz' * (not num % 3) + 'Buzz' * (not num % 5) or num\n\nprint(*(fizz_buzz_(n) for n in range(1, 20)))",
      "execution_count": 2,
      "outputs": [
        {
          "output_type": "stream",
          "text": "1 2 Fizz 4 Buzz Fizz 7 8 Fizz Buzz 11 Fizz 13 14 FizzBuzz 16 17 Fizz 19\n",
          "name": "stdout"
        }
      ]
    },
    {
      "metadata": {
        "slideshow": {
          "slide_type": "slide"
        }
      },
      "cell_type": "markdown",
      "source": "### Cherry on top - _all_ and  _any_"
    },
    {
      "metadata": {
        "slideshow": {
          "slide_type": "fragment"
        },
        "trusted": true
      },
      "cell_type": "code",
      "source": "print(all(x for x in range(5)), any(x for x in range(5)))",
      "execution_count": null,
      "outputs": []
    },
    {
      "metadata": {
        "slideshow": {
          "slide_type": "fragment"
        }
      },
      "cell_type": "markdown",
      "source": "or just"
    },
    {
      "metadata": {
        "trusted": true,
        "slideshow": {
          "slide_type": "fragment"
        }
      },
      "cell_type": "code",
      "source": "print(all(range(5)), any(range(5)))",
      "execution_count": null,
      "outputs": []
    },
    {
      "metadata": {
        "slideshow": {
          "slide_type": "slide"
        }
      },
      "cell_type": "markdown",
      "source": "For more fun, visit Facebook [Python Programming Language](https://www.facebook.com/groups/python.programmers/) group."
    }
  ],
  "metadata": {
    "kernelspec": {
      "name": "python36",
      "display_name": "Python 3.6",
      "language": "python"
    },
    "language_info": {
      "mimetype": "text/x-python",
      "nbconvert_exporter": "python",
      "name": "python",
      "pygments_lexer": "ipython3",
      "version": "3.6.6",
      "file_extension": ".py",
      "codemirror_mode": {
        "version": 3,
        "name": "ipython"
      }
    },
    "celltoolbar": "Slideshow"
  },
  "nbformat": 4,
  "nbformat_minor": 2
}