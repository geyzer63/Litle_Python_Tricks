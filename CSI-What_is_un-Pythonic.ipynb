{
  "cells": [
    {
      "metadata": {
        "collapsed": true,
        "slideshow": {
          "slide_type": "slide"
        }
      },
      "cell_type": "markdown",
      "source": "# Crime Scene Investigation"
    },
    {
      "metadata": {},
      "cell_type": "markdown",
      "source": "## Fighting un-Pythonic Crime"
    },
    {
      "metadata": {
        "slideshow": {
          "slide_type": "fragment"
        }
      },
      "cell_type": "markdown",
      "source": "### ByteCode At a Time"
    },
    {
      "metadata": {
        "slideshow": {
          "slide_type": "fragment"
        }
      },
      "cell_type": "markdown",
      "source": "#### Let [PEP-8](https://www.python.org/dev/peps/pep-0008/) Be With You!"
    },
    {
      "metadata": {
        "trusted": true,
        "slideshow": {
          "slide_type": "fragment"
        }
      },
      "cell_type": "code",
      "source": "import dis\ndis.__doc__",
      "execution_count": null,
      "outputs": []
    },
    {
      "metadata": {
        "trusted": true,
        "slideshow": {
          "slide_type": "fragment"
        }
      },
      "cell_type": "code",
      "source": "dis.dis('x = 1')",
      "execution_count": null,
      "outputs": []
    },
    {
      "metadata": {
        "slideshow": {
          "slide_type": "skip"
        },
        "trusted": true
      },
      "cell_type": "code",
      "source": "import dis\nimport io\nimport itertools\nimport re\nimport sys\n\nclass IoCatcher:\n    def __init__(self):\n        self.old_stdout = sys.stdout\n        sys.stdout = self.buffer = io.StringIO()\n    def __enter__(self):\n        return self.buffer\n    def __exit__(self, *_):\n        sys.stdout = self.old_stdout\n\ndef comparative_dis(*snippets):\n    compressor = re.compile(r'( +)'\n                             '(  | \\d|\\d\\d)' # 2\n                             '( +)'\n                             '(  |>>)' # 4\n                             '( +)'\n                             '([ \\d]\\d +\\w+)' #6\n                             '( {4})?'\n                           )    \n    snippets_dis = []\n    for snippet in snippets:\n        with IoCatcher() as io_catcher:\n            dis.dis(snippet)\n        snippets_dis.append(list(map(lambda l: compressor.sub(r' \\2 \\4 \\6', l),\n                                     io_catcher.getvalue().splitlines())))\n    widths = [max(map(len, snippet)) for snippet in snippets_dis]\n    fmt = ' | '.join('{{:<{}}}'.format(w) for w in widths)\n    print(*(fmt.format(*lines) for lines in itertools.zip_longest(*snippets_dis, fillvalue='')), \n          sep='\\n')",
      "execution_count": 1,
      "outputs": []
    },
    {
      "metadata": {
        "slideshow": {
          "slide_type": "slide"
        }
      },
      "cell_type": "markdown",
      "source": "## Truthiness of Sequences\n\n> For sequences, (strings, lists, tuples), use the fact that empty sequences are false:\n\n```python\n# Correct:\nif not seq:\nif seq:\n\n# Wrong:\nif len(seq):\nif not len(seq):\n\n```"
    },
    {
      "metadata": {
        "slideshow": {
          "slide_type": "slide"
        }
      },
      "cell_type": "markdown",
      "source": "### The Proof"
    },
    {
      "metadata": {
        "slideshow": {
          "slide_type": "fragment"
        },
        "trusted": true
      },
      "cell_type": "code",
      "source": "comparative_dis('if seq: pass', 'if len(seq): pass')",
      "execution_count": null,
      "outputs": []
    },
    {
      "metadata": {
        "slideshow": {
          "slide_type": "fragment"
        },
        "trusted": true
      },
      "cell_type": "code",
      "source": "comparative_dis('if not seq: pass', 'if not len(seq): pass')",
      "execution_count": null,
      "outputs": []
    },
    {
      "metadata": {
        "slideshow": {
          "slide_type": "slide"
        }
      },
      "cell_type": "markdown",
      "source": "## Booleans - again\n\n> Don't compare boolean values to _True_ or _False_ using __==__:\n\n```python\n# Correct:\nif greeting:\n\n# Wrong:\nif greeting == True:\n\n# Worse:\nif greeting is True:\n```"
    },
    {
      "metadata": {
        "slideshow": {
          "slide_type": "slide"
        },
        "trusted": true
      },
      "cell_type": "markdown",
      "source": "### The Proof"
    },
    {
      "metadata": {
        "trusted": true,
        "slideshow": {
          "slide_type": "fragment"
        }
      },
      "cell_type": "code",
      "source": "comparative_dis('if flag: pass', 'if flag == True: pass', 'if flag is True: pass')",
      "execution_count": null,
      "outputs": []
    },
    {
      "metadata": {
        "slideshow": {
          "slide_type": "slide"
        }
      },
      "cell_type": "markdown",
      "source": "## Type Check\n> Object type comparisons should always use isinstance() instead of comparing types directly:\n\n```python\n# Correct:\nif isinstance(obj, int):\n\n# Wrong:\nif type(obj) is int:\n\n# Worst\nif type(obj) == int:\n```"
    },
    {
      "metadata": {
        "slideshow": {
          "slide_type": "slide"
        },
        "trusted": true
      },
      "cell_type": "markdown",
      "source": "### The Proof"
    },
    {
      "metadata": {
        "trusted": true,
        "slideshow": {
          "slide_type": "fragment"
        }
      },
      "cell_type": "code",
      "source": "comparative_dis('if isinstance(obj, int): pass', 'if type(obj) is int: pass', 'if type(obj) == int: pass')",
      "execution_count": null,
      "outputs": []
    },
    {
      "metadata": {
        "slideshow": {
          "slide_type": "slide"
        }
      },
      "cell_type": "markdown",
      "source": "# So far, PEP-8 is partially covered. What next?"
    },
    {
      "metadata": {
        "slideshow": {
          "slide_type": "slide"
        }
      },
      "cell_type": "markdown",
      "source": "## Key in a Dictionary\n\n```python\n# Correct \nif 'key' in some_dict:\nfor key in some_dict:\n    \n# Wrong\nif 'key' in some_dict.keys()\nfor key in some_dict.keys():\n```\n"
    },
    {
      "metadata": {
        "slideshow": {
          "slide_type": "slide"
        }
      },
      "cell_type": "markdown",
      "source": "### The Proof"
    },
    {
      "metadata": {
        "slideshow": {
          "slide_type": "fragment"
        },
        "trusted": true
      },
      "cell_type": "code",
      "source": "comparative_dis('\"key\" in some_dict', '\"key\" in some_dict.keys()')",
      "execution_count": null,
      "outputs": []
    },
    {
      "metadata": {
        "slideshow": {
          "slide_type": "fragment"
        },
        "trusted": true
      },
      "cell_type": "code",
      "source": "comparative_dis('for key in some_dict: pass', 'for key in some_dict.keys(): pass')",
      "execution_count": null,
      "outputs": []
    },
    {
      "metadata": {
        "slideshow": {
          "slide_type": "slide"
        }
      },
      "cell_type": "markdown",
      "source": "## Iteration Over List"
    },
    {
      "metadata": {
        "trusted": true,
        "slideshow": {
          "slide_type": "-"
        }
      },
      "cell_type": "code",
      "source": "def sum_list_correct(arr):\n    list_sum = 0\n    for elem in arr:\n        list_sum += elem\n    return list_sum\n\ndef sum_list_incorrect(arr):\n    list_sum = 0\n    for idx in range(len(arr)):\n        list_sum += arr[idx]\n    return list_sum",
      "execution_count": null,
      "outputs": []
    },
    {
      "metadata": {
        "slideshow": {
          "slide_type": "slide"
        }
      },
      "cell_type": "markdown",
      "source": "### The Proof"
    },
    {
      "metadata": {
        "trusted": true,
        "slideshow": {
          "slide_type": "fragment"
        }
      },
      "cell_type": "code",
      "source": "comparative_dis(sum_list_correct, sum_list_incorrect)",
      "execution_count": null,
      "outputs": []
    }
  ],
  "metadata": {
    "kernelspec": {
      "name": "python36",
      "display_name": "Python 3.6",
      "language": "python"
    },
    "language_info": {
      "mimetype": "text/x-python",
      "nbconvert_exporter": "python",
      "name": "python",
      "pygments_lexer": "ipython3",
      "version": "3.6.6",
      "file_extension": ".py",
      "codemirror_mode": {
        "version": 3,
        "name": "ipython"
      }
    },
    "celltoolbar": "Slideshow"
  },
  "nbformat": 4,
  "nbformat_minor": 2
}