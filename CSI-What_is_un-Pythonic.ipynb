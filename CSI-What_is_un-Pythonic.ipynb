{
 "cells": [
  {
   "cell_type": "markdown",
   "metadata": {
    "collapsed": true,
    "slideshow": {
     "slide_type": "slide"
    }
   },
   "source": [
    "# Crime Scene Investigation"
   ]
  },
  {
   "cell_type": "markdown",
   "metadata": {
    "slideshow": {
     "slide_type": "fragment"
    }
   },
   "source": [
    "## Fighting un-Pythonic Crime"
   ]
  },
  {
   "cell_type": "markdown",
   "metadata": {
    "slideshow": {
     "slide_type": "fragment"
    }
   },
   "source": [
    "### ByteCode At a Time"
   ]
  },
  {
   "cell_type": "markdown",
   "metadata": {
    "slideshow": {
     "slide_type": "fragment"
    }
   },
   "source": [
    "#### Let [PEP-8](https://www.python.org/dev/peps/pep-0008/) Be With You!"
   ]
  },
  {
   "cell_type": "markdown",
   "metadata": {
    "slideshow": {
     "slide_type": "slide"
    }
   },
   "source": [
    "My tool of choice is **dis** - Python dissasembly module"
   ]
  },
  {
   "cell_type": "code",
   "execution_count": 1,
   "metadata": {
    "slideshow": {
     "slide_type": "fragment"
    }
   },
   "outputs": [
    {
     "data": {
      "text/plain": [
       "'Disassembler of Python byte code into mnemonics.'"
      ]
     },
     "execution_count": 1,
     "metadata": {},
     "output_type": "execute_result"
    }
   ],
   "source": [
    "import dis\n",
    "dis.__doc__"
   ]
  },
  {
   "cell_type": "code",
   "execution_count": 2,
   "metadata": {
    "slideshow": {
     "slide_type": "fragment"
    }
   },
   "outputs": [
    {
     "name": "stdout",
     "output_type": "stream",
     "text": [
      "  1           0 LOAD_CONST               0 (1)\n",
      "              2 STORE_NAME               0 (x)\n",
      "              4 LOAD_CONST               1 (None)\n",
      "              6 RETURN_VALUE\n"
     ]
    }
   ],
   "source": [
    "dis.dis('x = 1')"
   ]
  },
  {
   "cell_type": "markdown",
   "metadata": {
    "slideshow": {
     "slide_type": "fragment"
    }
   },
   "source": [
    "I created a helper function for side-by-side presentation _(not seen in demo mode)_\n",
    "\n",
    "It makes the \"crime\" more obvious"
   ]
  },
  {
   "cell_type": "markdown",
   "metadata": {
    "slideshow": {
     "slide_type": "fragment"
    }
   },
   "source": [
    "**Pay attention to bytecode length**"
   ]
  },
  {
   "cell_type": "code",
   "execution_count": 3,
   "metadata": {
    "slideshow": {
     "slide_type": "skip"
    }
   },
   "outputs": [],
   "source": [
    "import dis\n",
    "import io\n",
    "import itertools\n",
    "import re\n",
    "import sys\n",
    "\n",
    "class IoCatcher:\n",
    "    def __init__(self):\n",
    "        self.old_stdout = sys.stdout\n",
    "        sys.stdout = self.buffer = io.StringIO()\n",
    "    def __enter__(self):\n",
    "        return self.buffer\n",
    "    def __exit__(self, *_):\n",
    "        sys.stdout = self.old_stdout\n",
    "\n",
    "def comparative_dis(*snippets):\n",
    "    compressor = re.compile(r'( +)'\n",
    "                             '(  | \\d|\\d\\d)' # 2\n",
    "                             '( +)'\n",
    "                             '(  |>>)' # 4\n",
    "                             '( +)'\n",
    "                             '([ \\d]\\d +\\w+)' #6\n",
    "                             '( {4})?'\n",
    "                           )    \n",
    "    snippets_dis = []\n",
    "    for snippet in snippets:\n",
    "        with IoCatcher() as io_catcher:\n",
    "            dis.dis(snippet)\n",
    "        snippets_dis.append(list(map(lambda l: compressor.sub(r' \\2 \\4 \\6', l),\n",
    "                                     io_catcher.getvalue().splitlines())))\n",
    "    widths = [max(map(len, snippet)) for snippet in snippets_dis]\n",
    "    fmt = ' | '.join('{{:<{}}}'.format(w) for w in widths)\n",
    "    print(*(fmt.format(*lines) for lines in itertools.zip_longest(*snippets_dis, fillvalue='')), \n",
    "          sep='\\n')"
   ]
  },
  {
   "cell_type": "markdown",
   "metadata": {
    "slideshow": {
     "slide_type": "slide"
    }
   },
   "source": [
    "## Truthiness of Sequences\n",
    "\n",
    "> For sequences, (strings, lists, tuples), use the fact that empty sequences are false:\n",
    "\n",
    "```python\n",
    "# Correct:\n",
    "if not seq:\n",
    "if seq:\n",
    "\n",
    "# Wrong:\n",
    "if len(seq):\n",
    "if not len(seq):\n",
    "\n",
    "```"
   ]
  },
  {
   "cell_type": "markdown",
   "metadata": {
    "slideshow": {
     "slide_type": "slide"
    }
   },
   "source": [
    "### The Proof"
   ]
  },
  {
   "cell_type": "code",
   "execution_count": 4,
   "metadata": {
    "slideshow": {
     "slide_type": "fragment"
    }
   },
   "outputs": [
    {
     "name": "stdout",
     "output_type": "stream",
     "text": [
      "  1     0 LOAD_NAME            0 (seq)  |   1     0 LOAD_NAME            0 (len) \n",
      "        2 POP_JUMP_IF_FALSE    4        |         2 LOAD_NAME            1 (seq) \n",
      "    >>  4 LOAD_CONST           0 (None) |         4 CALL_FUNCTION        1       \n",
      "        6 RETURN_VALUE                  |         6 POP_JUMP_IF_FALSE    8       \n",
      "                                        |     >>  8 LOAD_CONST           0 (None)\n",
      "                                        |        10 RETURN_VALUE                 \n"
     ]
    }
   ],
   "source": [
    "comparative_dis('if seq: pass', 'if len(seq): pass')"
   ]
  },
  {
   "cell_type": "code",
   "execution_count": 5,
   "metadata": {
    "slideshow": {
     "slide_type": "fragment"
    }
   },
   "outputs": [
    {
     "name": "stdout",
     "output_type": "stream",
     "text": [
      "  1     0 LOAD_NAME            0 (seq)  |   1     0 LOAD_NAME            0 (len) \n",
      "        2 POP_JUMP_IF_TRUE     4        |         2 LOAD_NAME            1 (seq) \n",
      "    >>  4 LOAD_CONST           0 (None) |         4 CALL_FUNCTION        1       \n",
      "        6 RETURN_VALUE                  |         6 POP_JUMP_IF_TRUE     8       \n",
      "                                        |     >>  8 LOAD_CONST           0 (None)\n",
      "                                        |        10 RETURN_VALUE                 \n"
     ]
    }
   ],
   "source": [
    "comparative_dis('if not seq: pass', 'if not len(seq): pass')"
   ]
  },
  {
   "cell_type": "markdown",
   "metadata": {
    "slideshow": {
     "slide_type": "slide"
    }
   },
   "source": [
    "## Booleans - again\n",
    "\n",
    "> Don't compare boolean values to _True_ or _False_ using __==__:\n",
    "\n",
    "```python\n",
    "# Correct:\n",
    "if greeting:\n",
    "\n",
    "# Wrong:\n",
    "if greeting == True:\n",
    "\n",
    "# Worse:\n",
    "if greeting is True:\n",
    "```"
   ]
  },
  {
   "cell_type": "markdown",
   "metadata": {
    "slideshow": {
     "slide_type": "slide"
    }
   },
   "source": [
    "### The Proof"
   ]
  },
  {
   "cell_type": "code",
   "execution_count": 6,
   "metadata": {
    "slideshow": {
     "slide_type": "fragment"
    }
   },
   "outputs": [
    {
     "name": "stdout",
     "output_type": "stream",
     "text": [
      "  1     0 LOAD_NAME            0 (flag) |   1     0 LOAD_NAME            0 (flag) |   1     0 LOAD_NAME            0 (flag)\n",
      "        2 POP_JUMP_IF_FALSE    4        |         2 LOAD_CONST           0 (True) |         2 LOAD_CONST           0 (True)\n",
      "    >>  4 LOAD_CONST           0 (None) |         4 COMPARE_OP           2 (==)   |         4 IS_OP                0       \n",
      "        6 RETURN_VALUE                  |         6 POP_JUMP_IF_FALSE    8        |         6 POP_JUMP_IF_FALSE    8       \n",
      "                                        |     >>  8 LOAD_CONST           1 (None) |     >>  8 LOAD_CONST           1 (None)\n",
      "                                        |        10 RETURN_VALUE                  |        10 RETURN_VALUE                 \n"
     ]
    }
   ],
   "source": [
    "comparative_dis('if flag: pass', 'if flag == True: pass', 'if flag is True: pass')"
   ]
  },
  {
   "cell_type": "markdown",
   "metadata": {
    "slideshow": {
     "slide_type": "slide"
    }
   },
   "source": [
    "## Type Check\n",
    "> Object type comparisons should always use isinstance() instead of comparing types directly:\n",
    "\n",
    "```python\n",
    "# Correct:\n",
    "if isinstance(obj, int):\n",
    "\n",
    "# Wrong:\n",
    "if type(obj) is int:\n",
    "\n",
    "# Worst\n",
    "if type(obj) == int:\n",
    "```"
   ]
  },
  {
   "cell_type": "markdown",
   "metadata": {
    "slideshow": {
     "slide_type": "slide"
    }
   },
   "source": [
    "### The Proof"
   ]
  },
  {
   "cell_type": "code",
   "execution_count": 7,
   "metadata": {
    "slideshow": {
     "slide_type": "fragment"
    }
   },
   "outputs": [
    {
     "name": "stdout",
     "output_type": "stream",
     "text": [
      "  1     0 LOAD_NAME            0 (isinstance) |   1     0 LOAD_NAME            0 (type) |   1     0 LOAD_NAME            0 (type)\n",
      "        2 LOAD_NAME            1 (obj)        |         2 LOAD_NAME            1 (obj)  |         2 LOAD_NAME            1 (obj) \n",
      "        4 LOAD_NAME            2 (int)        |         4 CALL_FUNCTION        1        |         4 CALL_FUNCTION        1       \n",
      "        6 CALL_FUNCTION        2              |         6 LOAD_NAME            2 (int)  |         6 LOAD_NAME            2 (int) \n",
      "        8 POP_JUMP_IF_FALSE   10              |         8 IS_OP                0        |         8 COMPARE_OP           2 (==)  \n",
      "    >> 10 LOAD_CONST           0 (None)       |        10 POP_JUMP_IF_FALSE   12        |        10 POP_JUMP_IF_FALSE   12       \n",
      "       12 RETURN_VALUE                        |     >> 12 LOAD_CONST           0 (None) |     >> 12 LOAD_CONST           0 (None)\n",
      "                                              |        14 RETURN_VALUE                  |        14 RETURN_VALUE                 \n"
     ]
    }
   ],
   "source": [
    "comparative_dis('if isinstance(obj, int): pass', 'if type(obj) is int: pass', 'if type(obj) == int: pass')"
   ]
  },
  {
   "cell_type": "markdown",
   "metadata": {
    "slideshow": {
     "slide_type": "slide"
    }
   },
   "source": [
    "# So far, PEP-8 is partially covered. What next?"
   ]
  },
  {
   "cell_type": "markdown",
   "metadata": {
    "slideshow": {
     "slide_type": "slide"
    }
   },
   "source": [
    "## Key in a Dictionary\n",
    "\n",
    "```python\n",
    "# Correct \n",
    "if 'key' in some_dict:\n",
    "for key in some_dict:\n",
    "    \n",
    "# Wrong\n",
    "if 'key' in some_dict.keys()\n",
    "for key in some_dict.keys():\n",
    "```\n"
   ]
  },
  {
   "cell_type": "markdown",
   "metadata": {
    "slideshow": {
     "slide_type": "slide"
    }
   },
   "source": [
    "### The Proof"
   ]
  },
  {
   "cell_type": "code",
   "execution_count": 8,
   "metadata": {
    "slideshow": {
     "slide_type": "fragment"
    }
   },
   "outputs": [
    {
     "name": "stdout",
     "output_type": "stream",
     "text": [
      "  1     0 LOAD_CONST           0 ('key')     |   1     0 LOAD_CONST           0 ('key')    \n",
      "        2 LOAD_NAME            0 (some_dict) |         2 LOAD_NAME            0 (some_dict)\n",
      "        4 CONTAINS_OP          0             |         4 LOAD_METHOD          1 (keys)     \n",
      "        6 RETURN_VALUE                       |         6 CALL_METHOD          0            \n",
      "                                             |         8 CONTAINS_OP          0            \n",
      "                                             |        10 RETURN_VALUE                      \n"
     ]
    }
   ],
   "source": [
    "comparative_dis('\"key\" in some_dict', '\"key\" in some_dict.keys()')"
   ]
  },
  {
   "cell_type": "code",
   "execution_count": 9,
   "metadata": {
    "slideshow": {
     "slide_type": "fragment"
    }
   },
   "outputs": [
    {
     "name": "stdout",
     "output_type": "stream",
     "text": [
      "  1     0 LOAD_NAME            0 (some_dict) |   1     0 LOAD_NAME            0 (some_dict)\n",
      "        2 GET_ITER                           |         2 LOAD_METHOD          1 (keys)     \n",
      "    >>  4 FOR_ITER             4 (to 10)     |         4 CALL_METHOD          0            \n",
      "        6 STORE_NAME           1 (key)       |         6 GET_ITER                          \n",
      "        8 JUMP_ABSOLUTE        4             |     >>  8 FOR_ITER             4 (to 14)    \n",
      "    >> 10 LOAD_CONST           0 (None)      |        10 STORE_NAME           2 (key)      \n",
      "       12 RETURN_VALUE                       |        12 JUMP_ABSOLUTE        8            \n",
      "                                             |     >> 14 LOAD_CONST           0 (None)     \n",
      "                                             |        16 RETURN_VALUE                      \n"
     ]
    }
   ],
   "source": [
    "comparative_dis('for key in some_dict: pass', 'for key in some_dict.keys(): pass')"
   ]
  },
  {
   "cell_type": "markdown",
   "metadata": {
    "slideshow": {
     "slide_type": "slide"
    }
   },
   "source": [
    "## Iteration Over List"
   ]
  },
  {
   "cell_type": "code",
   "execution_count": 10,
   "metadata": {
    "slideshow": {
     "slide_type": "-"
    }
   },
   "outputs": [],
   "source": [
    "def sum_list_correct(arr):\n",
    "    list_sum = 0\n",
    "    for elem in arr:\n",
    "        list_sum += elem\n",
    "    return list_sum\n",
    "\n",
    "def sum_list_incorrect(arr):\n",
    "    list_sum = 0\n",
    "    for idx in range(len(arr)):\n",
    "        list_sum += arr[idx]\n",
    "    return list_sum"
   ]
  },
  {
   "cell_type": "markdown",
   "metadata": {
    "slideshow": {
     "slide_type": "slide"
    }
   },
   "source": [
    "### The Proof"
   ]
  },
  {
   "cell_type": "code",
   "execution_count": 11,
   "metadata": {
    "slideshow": {
     "slide_type": "fragment"
    }
   },
   "outputs": [
    {
     "name": "stdout",
     "output_type": "stream",
     "text": [
      "  2     0 LOAD_CONST           1 (0)        |   8     0 LOAD_CONST           1 (0)       \n",
      "        2 STORE_FAST           1 (list_sum) |         2 STORE_FAST           1 (list_sum)\n",
      "                                            |                                            \n",
      "  3     4 LOAD_FAST            0 (arr)      |   9     4 LOAD_GLOBAL          0 (range)   \n",
      "        6 GET_ITER                          |         6 LOAD_GLOBAL          1 (len)     \n",
      "    >>  8 FOR_ITER            12 (to 22)    |         8 LOAD_FAST            0 (arr)     \n",
      "       10 STORE_FAST           2 (elem)     |        10 CALL_FUNCTION        1           \n",
      "                                            |        12 CALL_FUNCTION        1           \n",
      "  4    12 LOAD_FAST            1 (list_sum) |        14 GET_ITER                         \n",
      "       14 LOAD_FAST            2 (elem)     |     >> 16 FOR_ITER            16 (to 34)   \n",
      "       16 INPLACE_ADD                       |        18 STORE_FAST           2 (idx)     \n",
      "       18 STORE_FAST           1 (list_sum) |                                            \n",
      "       20 JUMP_ABSOLUTE        8            |  10    20 LOAD_FAST            1 (list_sum)\n",
      "                                            |        22 LOAD_FAST            0 (arr)     \n",
      "  5 >> 22 LOAD_FAST            1 (list_sum) |        24 LOAD_FAST            2 (idx)     \n",
      "       24 RETURN_VALUE                      |        26 BINARY_SUBSCR                    \n",
      "                                            |        28 INPLACE_ADD                      \n",
      "                                            |        30 STORE_FAST           1 (list_sum)\n",
      "                                            |        32 JUMP_ABSOLUTE       16           \n",
      "                                            |                                            \n",
      "                                            |  11 >> 34 LOAD_FAST            1 (list_sum)\n",
      "                                            |        36 RETURN_VALUE                     \n"
     ]
    }
   ],
   "source": [
    "comparative_dis(sum_list_correct, sum_list_incorrect)"
   ]
  },
  {
   "cell_type": "markdown",
   "metadata": {
    "slideshow": {
     "slide_type": "slide"
    }
   },
   "source": [
    "### Set Abuse\n",
    "Ever hear about set literal?"
   ]
  },
  {
   "cell_type": "code",
   "execution_count": 12,
   "metadata": {
    "slideshow": {
     "slide_type": "fragment"
    }
   },
   "outputs": [
    {
     "name": "stdout",
     "output_type": "stream",
     "text": [
      "  1     0 LOAD_NAME            0 (set)       |   1     0 BUILD_SET            0                       \n",
      "        2 BUILD_LIST           0             |         2 LOAD_CONST           0 (frozenset({1, 2, 3}))\n",
      "        4 LOAD_CONST           0 ((1, 2, 3)) |         4 SET_UPDATE           1                       \n",
      "        6 LIST_EXTEND          1             |         6 RETURN_VALUE                                 \n",
      "        8 CALL_FUNCTION        1             |                                                        \n",
      "       10 RETURN_VALUE                       |                                                        \n"
     ]
    }
   ],
   "source": [
    "comparative_dis('set([1, 2, 3])', '{1, 2, 3}')"
   ]
  }
 ],
 "metadata": {
  "celltoolbar": "Slideshow",
  "kernelspec": {
   "display_name": "Python 3 (ipykernel)",
   "language": "python",
   "name": "python3"
  },
  "language_info": {
   "codemirror_mode": {
    "name": "ipython",
    "version": 3
   },
   "file_extension": ".py",
   "mimetype": "text/x-python",
   "name": "python",
   "nbconvert_exporter": "python",
   "pygments_lexer": "ipython3",
   "version": "3.9.12"
  }
 },
 "nbformat": 4,
 "nbformat_minor": 2
}
