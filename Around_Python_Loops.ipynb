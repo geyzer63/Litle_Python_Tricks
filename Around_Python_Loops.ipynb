{
  "cells": [
    {
      "metadata": {
        "slideshow": {
          "slide_type": "slide"
        }
      },
      "cell_type": "markdown",
      "source": "## Before We Start"
    },
    {
      "metadata": {
        "slideshow": {
          "slide_type": "fragment"
        }
      },
      "cell_type": "markdown",
      "source": "What is iterable?"
    },
    {
      "metadata": {
        "slideshow": {
          "slide_type": "fragment"
        }
      },
      "cell_type": "markdown",
      "source": "Elemantary, Watson - **it is an object you can iterate over**. In other words - pass over in *for* loop"
    },
    {
      "metadata": {
        "slideshow": {
          "slide_type": "slide"
        }
      },
      "cell_type": "markdown",
      "source": "### Example of iterables"
    },
    {
      "metadata": {
        "slideshow": {
          "slide_type": "fragment"
        }
      },
      "cell_type": "markdown",
      "source": "- `list`, `tuple`"
    },
    {
      "metadata": {
        "slideshow": {
          "slide_type": "fragment"
        }
      },
      "cell_type": "markdown",
      "source": "- `dict`, `dict.keys()`, `dict.values()`, `dict.items()`"
    },
    {
      "metadata": {
        "slideshow": {
          "slide_type": "fragment"
        }
      },
      "cell_type": "markdown",
      "source": "- `set`, `frozenset`"
    },
    {
      "metadata": {
        "slideshow": {
          "slide_type": "fragment"
        }
      },
      "cell_type": "markdown",
      "source": "- `generator` (later)"
    },
    {
      "metadata": {},
      "cell_type": "markdown",
      "source": " - return value of some builtin function like `range`, `map`, `zip`, `filter`"
    },
    {
      "metadata": {
        "slideshow": {
          "slide_type": "slide"
        }
      },
      "cell_type": "markdown",
      "source": "### C/C++ \"for\" loop\n```c\nsum = 0\nfor (i=0; i < 10; i++) {\n    sum += arr[i]\n}\n```"
    },
    {
      "metadata": {
        "slideshow": {
          "slide_type": "slide"
        }
      },
      "cell_type": "markdown",
      "source": "### Python **for** loop\n```python\nlist_sum = 0\nfor elem in arr:\n    list_sum += elem\n```"
    },
    {
      "metadata": {
        "slideshow": {
          "slide_type": "fragment"
        }
      },
      "cell_type": "markdown",
      "source": "**Never** (nearly)\n```python\nlist_sum = 0\nfor index in length(len(arr)):\n    list_sum += arr[i]\n```"
    },
    {
      "metadata": {
        "slideshow": {
          "slide_type": "slide"
        }
      },
      "cell_type": "markdown",
      "source": "### But I need this index\nI want to replace every 3rd element with its square"
    },
    {
      "metadata": {
        "slideshow": {
          "slide_type": "fragment"
        }
      },
      "cell_type": "markdown",
      "source": "**Use *enumerate* function**\n\n```python\nfor index, elem in enumerate(arr):\n    if (index + 1) % 3 == 0:\n        arr[index] = elem ** 2\n```"
    },
    {
      "metadata": {
        "slideshow": {
          "slide_type": "slide"
        }
      },
      "cell_type": "markdown",
      "source": "Though real Pythonista will write it with a list comprehension\n```python\narr = [elem if (index + 1) % 3 else elem ** 2 \n       for index, elem in enumerate(arr)]\n```"
    },
    {
      "metadata": {
        "collapsed": true,
        "slideshow": {
          "slide_type": "slide"
        }
      },
      "cell_type": "markdown",
      "source": "## Next, or else...."
    },
    {
      "metadata": {
        "collapsed": true,
        "slideshow": {
          "slide_type": "fragment"
        }
      },
      "cell_type": "markdown",
      "source": "Any self-respecting Pythonista should have heard of _iter_."
    },
    {
      "metadata": {
        "collapsed": true,
        "slideshow": {
          "slide_type": "fragment"
        }
      },
      "cell_type": "markdown",
      "source": "But how many of you are aware of its sibling _next_? "
    },
    {
      "metadata": {
        "collapsed": true,
        "slideshow": {
          "slide_type": "fragment"
        }
      },
      "cell_type": "markdown",
      "source": "Or that loops have a useful _else_ clause?                       "
    },
    {
      "metadata": {
        "slideshow": {
          "slide_type": "slide"
        }
      },
      "cell_type": "markdown",
      "source": "## What is generator"
    },
    {
      "metadata": {
        "slideshow": {
          "slide_type": "fragment"
        }
      },
      "cell_type": "markdown",
      "source": "A \"stateful\" function/expression that produces one output on each \"invocation\""
    },
    {
      "metadata": {
        "slideshow": {
          "slide_type": "fragment"
        }
      },
      "cell_type": "markdown",
      "source": "Generator provides a **lazy evaluation** - instead of creating a list, it **yields** values one by one, saving memory"
    },
    {
      "metadata": {
        "slideshow": {
          "slide_type": "slide"
        }
      },
      "cell_type": "markdown",
      "source": "### Generator expression"
    },
    {
      "metadata": {
        "slideshow": {
          "slide_type": "fragment"
        },
        "trusted": true
      },
      "cell_type": "code",
      "source": "# Get every 3rd letter from an alphabet\nimport string\ngen = (letter for index, letter in enumerate(string.ascii_lowercase, 1) if index % 3 == 0)",
      "execution_count": null,
      "outputs": []
    },
    {
      "metadata": {
        "slideshow": {
          "slide_type": "fragment"
        },
        "trusted": true
      },
      "cell_type": "code",
      "source": "next(gen), next(gen), next(gen), next(gen), next(gen), next(gen), next(gen)\n",
      "execution_count": null,
      "outputs": []
    },
    {
      "metadata": {
        "slideshow": {
          "slide_type": "slide"
        }
      },
      "cell_type": "markdown",
      "source": "### Generator function"
    },
    {
      "metadata": {
        "slideshow": {
          "slide_type": "fragment"
        },
        "trusted": true
      },
      "cell_type": "code",
      "source": "def fibonacci(fib_range):\n    a = 1\n    b = 1\n    for num in range(fib_range):\n        yield a\n        b, a = b + a, b\nfib_gen = fibonacci(20)",
      "execution_count": null,
      "outputs": []
    },
    {
      "metadata": {
        "slideshow": {
          "slide_type": "fragment"
        },
        "trusted": true
      },
      "cell_type": "code",
      "source": "next(fib_gen), next(fib_gen), next(fib_gen), next(fib_gen), next(fib_gen), next(fib_gen), next(fib_gen), next(fib_gen), next(fib_gen)",
      "execution_count": null,
      "outputs": []
    },
    {
      "metadata": {
        "slideshow": {
          "slide_type": "slide"
        }
      },
      "cell_type": "markdown",
      "source": "### But What About *iter*"
    },
    {
      "metadata": {
        "slideshow": {
          "slide_type": "fragment"
        },
        "trusted": true
      },
      "cell_type": "code",
      "source": "fib_10 = list(fibonacci(10))\nnext(fib_10)",
      "execution_count": null,
      "outputs": []
    },
    {
      "metadata": {
        "slideshow": {
          "slide_type": "fragment"
        },
        "trusted": true
      },
      "cell_type": "code",
      "source": "next(iter(fib_10)) ",
      "execution_count": null,
      "outputs": []
    },
    {
      "metadata": {
        "slideshow": {
          "slide_type": "fragment"
        }
      },
      "cell_type": "markdown",
      "source": "**iter** creates an iterator out of iterable"
    },
    {
      "metadata": {
        "slideshow": {
          "slide_type": "slide"
        }
      },
      "cell_type": "markdown",
      "source": "### Back to the mysterious header..."
    },
    {
      "metadata": {
        "collapsed": true,
        "slideshow": {
          "slide_type": "fragment"
        }
      },
      "cell_type": "markdown",
      "source": "You process some sequence - list, dictionary, generator. \n\nYour task - check if at least one of the elements satisfies some predicate. \n\nIs there just one way?"
    },
    {
      "metadata": {
        "collapsed": true,
        "slideshow": {
          "slide_type": "slide"
        }
      },
      "cell_type": "markdown",
      "source": "Enter Shreck characters."
    },
    {
      "metadata": {
        "trusted": true,
        "slideshow": {
          "slide_type": "fragment"
        }
      },
      "cell_type": "code",
      "source": "characters = { \n    'Shrek': 'surly',\n    'Fiona': 'cheerful',\n    'Fairy Godmother': 'devious',\n    'Donkey': 'annoying',\n    'Rumple': 'devious'\n}",
      "execution_count": null,
      "outputs": []
    },
    {
      "metadata": {
        "collapsed": true,
        "slideshow": {
          "slide_type": "slide"
        }
      },
      "cell_type": "markdown",
      "source": "Our goal - find out if anyone among them is *ugly*. Or *devious*. \n\n**Let's start!**"
    },
    {
      "metadata": {
        "slideshow": {
          "slide_type": "subslide"
        }
      },
      "cell_type": "markdown",
      "source": "### This code is ugly!!!"
    },
    {
      "metadata": {
        "trusted": true,
        "slideshow": {
          "slide_type": "fragment"
        }
      },
      "cell_type": "code",
      "source": "found_ugly = False\nfor character, virtue in characters.items():\n    if virtue == 'ugly':\n        print(f'{character} is ugly')\n        found_ugly = True\n        break\nif not found_ugly:\n    print('Hooray - No uglies!!')",
      "execution_count": null,
      "outputs": []
    },
    {
      "metadata": {
        "slideshow": {
          "slide_type": "slide"
        }
      },
      "cell_type": "markdown",
      "source": "### This is Pythonic\n"
    },
    {
      "metadata": {
        "trusted": true,
        "slideshow": {
          "slide_type": "fragment"
        }
      },
      "cell_type": "code",
      "source": "for character, virtue in characters.items():\n    if virtue == 'ugly':\n        print(f'{character} is ugly')\n        break\nelse:\n    print('Hooray - No uglies!!')",
      "execution_count": null,
      "outputs": []
    },
    {
      "metadata": {
        "slideshow": {
          "slide_type": "slide"
        }
      },
      "cell_type": "markdown",
      "source": "### This skips lazy evaluation"
    },
    {
      "metadata": {
        "trusted": true,
        "slideshow": {
          "slide_type": "fragment"
        }
      },
      "cell_type": "code",
      "source": "any_devious = [c for c, v in characters.items() if v == 'devious'][0]\nprint(any_devious)",
      "execution_count": null,
      "outputs": []
    },
    {
      "metadata": {
        "slideshow": {
          "slide_type": "fragment"
        }
      },
      "cell_type": "markdown",
      "source": "### And unsafe too"
    },
    {
      "metadata": {
        "slideshow": {
          "slide_type": "fragment"
        },
        "trusted": true
      },
      "cell_type": "code",
      "source": "any_ugly = [c for c, v in characters.items() if v == 'ugly'][0]\nprint(any_ugly)",
      "execution_count": null,
      "outputs": []
    },
    {
      "metadata": {
        "slideshow": {
          "slide_type": "subslide"
        }
      },
      "cell_type": "markdown",
      "source": "### You can protect yourself with an additional test"
    },
    {
      "metadata": {
        "trusted": true,
        "slideshow": {
          "slide_type": "fragment"
        }
      },
      "cell_type": "code",
      "source": "any_ugly = [c for c, v in characters.items() if v == 'ugly']\nprint(f'Found ugly in Shrek\\'s characters - {any_ugly[0] if any_ugly else None}')",
      "execution_count": null,
      "outputs": []
    },
    {
      "metadata": {
        "slideshow": {
          "slide_type": "fragment"
        }
      },
      "cell_type": "markdown",
      "source": "### But do you want to?"
    },
    {
      "metadata": {
        "slideshow": {
          "slide_type": "slide"
        }
      },
      "cell_type": "markdown",
      "source": "### Pythonic - and lazy (evaluation)!"
    },
    {
      "metadata": {
        "trusted": true,
        "slideshow": {
          "slide_type": "fragment"
        }
      },
      "cell_type": "code",
      "source": "any_ugly = next((c for c, v in characters.items() if v == 'ugly'), 'No, no uglies here')\nprint(f'Is anyone ugly among Shrek\\'s characters? - {any_ugly}')",
      "execution_count": null,
      "outputs": []
    },
    {
      "metadata": {
        "trusted": true,
        "slideshow": {
          "slide_type": "fragment"
        }
      },
      "cell_type": "code",
      "source": "any_devious = next((c for c, v in characters.items() if v == 'devious'), 'No, no one is devious')\nprint(f'Is anyone devious among Shrek\\'s characters? - {any_devious}')",
      "execution_count": null,
      "outputs": []
    },
    {
      "metadata": {
        "slideshow": {
          "slide_type": "slide"
        },
        "trusted": true
      },
      "cell_type": "code",
      "source": "# So, you have this dict with just one entry\nd = {'value': 'There may be only one'}",
      "execution_count": null,
      "outputs": []
    },
    {
      "metadata": {
        "slideshow": {
          "slide_type": "fragment"
        },
        "trusted": true
      },
      "cell_type": "code",
      "source": "# And you want that value\nlist(d.values())[0]",
      "execution_count": null,
      "outputs": []
    },
    {
      "metadata": {
        "slideshow": {
          "slide_type": "fragment"
        },
        "trusted": true
      },
      "cell_type": "code",
      "source": "# But what if your dict is empty\nlist({}.values())[0]",
      "execution_count": null,
      "outputs": []
    },
    {
      "metadata": {
        "slideshow": {
          "slide_type": "fragment"
        },
        "trusted": true
      },
      "cell_type": "code",
      "source": "print(next(iter(d.values()), None))\nprint(next(iter({}.values()), None))",
      "execution_count": null,
      "outputs": []
    },
    {
      "metadata": {
        "slideshow": {
          "slide_type": "slide"
        }
      },
      "cell_type": "markdown",
      "source": "### Disclaimer\nThe incomplete list of characters above is not meant to discriminate against any omitted character on the base of that character race, sex, sexual orientation or religious believes."
    },
    {
      "metadata": {
        "slideshow": {
          "slide_type": "slide"
        }
      },
      "cell_type": "markdown",
      "source": "For more fun stuff, check out Facebook [Python Programming Language](https://www.facebook.com/groups/python.programmers/) group."
    }
  ],
  "metadata": {
    "kernelspec": {
      "name": "python36",
      "display_name": "Python 3.6",
      "language": "python"
    },
    "celltoolbar": "Slideshow",
    "language_info": {
      "mimetype": "text/x-python",
      "nbconvert_exporter": "python",
      "name": "python",
      "pygments_lexer": "ipython3",
      "version": "3.6.6",
      "file_extension": ".py",
      "codemirror_mode": {
        "version": 3,
        "name": "ipython"
      }
    }
  },
  "nbformat": 4,
  "nbformat_minor": 2
}