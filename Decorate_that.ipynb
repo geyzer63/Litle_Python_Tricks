{
 "cells": [
  {
   "cell_type": "markdown",
   "metadata": {
    "slideshow": {
     "slide_type": "slide"
    }
   },
   "source": [
    "# What is Decorator?"
   ]
  },
  {
   "cell_type": "markdown",
   "metadata": {
    "slideshow": {
     "slide_type": "fragment"
    }
   },
   "source": [
    "**Higher order** (**currying**) functions that are used as wrappers to other functions. \n",
    "\n",
    "There are decorator classes too."
   ]
  },
  {
   "cell_type": "markdown",
   "metadata": {
    "slideshow": {
     "slide_type": "fragment"
    }
   },
   "source": [
    "Decorators may either:"
   ]
  },
  {
   "cell_type": "markdown",
   "metadata": {
    "slideshow": {
     "slide_type": "fragment"
    }
   },
   "source": [
    "- modify run-time behaviour of decorated function"
   ]
  },
  {
   "cell_type": "markdown",
   "metadata": {
    "slideshow": {
     "slide_type": "fragment"
    }
   },
   "source": [
    "- modify decorated function object"
   ]
  },
  {
   "cell_type": "markdown",
   "metadata": {
    "slideshow": {
     "slide_type": "slide"
    }
   },
   "source": [
    "# What Can You Do With Decorator?"
   ]
  },
  {
   "cell_type": "markdown",
   "metadata": {
    "slideshow": {
     "slide_type": "fragment"
    }
   },
   "source": [
    "- Pre-process function arguments"
   ]
  },
  {
   "cell_type": "markdown",
   "metadata": {
    "slideshow": {
     "slide_type": "fragment"
    }
   },
   "source": [
    "- Post-process return value and/or intercept exception(s)"
   ]
  },
  {
   "cell_type": "markdown",
   "metadata": {
    "slideshow": {
     "slide_type": "fragment"
    }
   },
   "source": [
    "- Modify function object, e.g. add attributes"
   ]
  },
  {
   "cell_type": "markdown",
   "metadata": {
    "slideshow": {
     "slide_type": "fragment"
    }
   },
   "source": [
    "- conditionally replace function object with another callable"
   ]
  },
  {
   "cell_type": "markdown",
   "metadata": {
    "slideshow": {
     "slide_type": "fragment"
    }
   },
   "source": [
    "etc."
   ]
  },
  {
   "cell_type": "markdown",
   "metadata": {
    "slideshow": {
     "slide_type": "slide"
    }
   },
   "source": [
    "# Decorator does ...."
   ]
  },
  {
   "cell_type": "markdown",
   "metadata": {
    "slideshow": {
     "slide_type": "slide"
    }
   },
   "source": [
    "## Classic example - 2 tiered"
   ]
  },
  {
   "cell_type": "code",
   "execution_count": 1,
   "metadata": {},
   "outputs": [],
   "source": [
    "def wrapper(func):\n",
    "    \"\"\" Simple decorator \"\"\"\n",
    "    print(f'Decorating {func.__name__}')\n",
    "    def runner(*args, **kwargs):\n",
    "        \"\"\" Simple runner \"\"\"\n",
    "        print(f'Executing {func.__name__}')\n",
    "        res = func(*args, **kwargs)\n",
    "        print(f'Executed {func.__name__}')\n",
    "        return res\n",
    "    return runner "
   ]
  },
  {
   "cell_type": "markdown",
   "metadata": {
    "slideshow": {
     "slide_type": "slide"
    }
   },
   "source": [
    "**How does it work?**\n",
    "```python\n",
    "def wrapper(func):\n",
    "    \"\"\" Simple decorator \"\"\"\n",
    "    print(f'Decorating {func.__name__}')\n",
    "    def runner(*args, **kwargs):\n",
    "        \"\"\" Simple runner \"\"\"\n",
    "        print(f'Executing {func.__name__}')\n",
    "        res = func(*args, **kwargs)\n",
    "        print(f'Executed {func.__name__}')\n",
    "        return res\n",
    "    return runner \n",
    "```"
   ]
  },
  {
   "cell_type": "code",
   "execution_count": 2,
   "metadata": {
    "slideshow": {
     "slide_type": "-"
    }
   },
   "outputs": [
    {
     "name": "stdout",
     "output_type": "stream",
     "text": [
      "Decorating dummy_func\n"
     ]
    }
   ],
   "source": [
    "@wrapper\n",
    "def dummy_func():\n",
    "    \"\"\" Simple function \"\"\"\n",
    "    print(f'I am just here for POC')"
   ]
  },
  {
   "cell_type": "code",
   "execution_count": 3,
   "metadata": {
    "slideshow": {
     "slide_type": "fragment"
    }
   },
   "outputs": [
    {
     "name": "stdout",
     "output_type": "stream",
     "text": [
      "Executing dummy_func\n",
      "I am just here for POC\n",
      "Executed dummy_func\n"
     ]
    }
   ],
   "source": [
    "dummy_func()"
   ]
  },
  {
   "cell_type": "markdown",
   "metadata": {
    "slideshow": {
     "slide_type": "slide"
    }
   },
   "source": [
    "**What happpens in decoration?**\n",
    "```python\n",
    "def wrapper(func):\n",
    "    \"\"\" Simple decorator \"\"\"\n",
    "    print(f'Decorating {func.__name__}')\n",
    "    def runner(*args, **kwargs):\n",
    "        \"\"\" Simple runner \"\"\"\n",
    "        print(f'Executing {func.__name__}')\n",
    "        res = func(*args, **kwargs)\n",
    "        print(f'Executed {func.__name__}')\n",
    "        return res\n",
    "    return runner \n",
    "```"
   ]
  },
  {
   "cell_type": "code",
   "execution_count": 4,
   "metadata": {
    "slideshow": {
     "slide_type": "fragment"
    }
   },
   "outputs": [
    {
     "name": "stdout",
     "output_type": "stream",
     "text": [
      "Decorating dummy_func1\n"
     ]
    }
   ],
   "source": [
    "def dummy_func1():\n",
    "    \"\"\" further proof function \"\"\"\n",
    "    print(f'I am just here for further proof')\n",
    "    \n",
    "dummy_func1 = wrapper(dummy_func1)"
   ]
  },
  {
   "cell_type": "code",
   "execution_count": 5,
   "metadata": {
    "slideshow": {
     "slide_type": "fragment"
    }
   },
   "outputs": [
    {
     "name": "stdout",
     "output_type": "stream",
     "text": [
      "Executing dummy_func1\n",
      "I am just here for further proof\n",
      "Executed dummy_func1\n"
     ]
    }
   ],
   "source": [
    "dummy_func1()"
   ]
  },
  {
   "cell_type": "markdown",
   "metadata": {
    "slideshow": {
     "slide_type": "subslide"
    }
   },
   "source": [
    "** You can even do that ** (Why?)\n",
    "```python\n",
    "def wrapper(func):\n",
    "    \"\"\" Simple decorator \"\"\"\n",
    "    print(f'Decorating {func.__name__}')\n",
    "    def runner(*args, **kwargs):\n",
    "        \"\"\" Simple runner \"\"\"\n",
    "        print(f'Executing {func.__name__}')\n",
    "        res = func(*args, **kwargs)\n",
    "        print(f'Executed {func.__name__}')\n",
    "        return res\n",
    "    return runner \n",
    "```"
   ]
  },
  {
   "cell_type": "code",
   "execution_count": 6,
   "metadata": {
    "slideshow": {
     "slide_type": "fragment"
    }
   },
   "outputs": [
    {
     "name": "stdout",
     "output_type": "stream",
     "text": [
      "Decorating dummy_func2\n",
      "Executing dummy_func2\n",
      "I am just here for another proof\n",
      "Executed dummy_func2\n"
     ]
    }
   ],
   "source": [
    "def dummy_func2():\n",
    "    \"\"\" Another function \"\"\"\n",
    "    print(f'I am just here for another proof')\n",
    "wrapper(dummy_func2)()"
   ]
  },
  {
   "cell_type": "markdown",
   "metadata": {
    "slideshow": {
     "slide_type": "subslide"
    }
   },
   "source": [
    "## Anything I should be aware of?"
   ]
  },
  {
   "cell_type": "code",
   "execution_count": 7,
   "metadata": {
    "slideshow": {
     "slide_type": "fragment"
    }
   },
   "outputs": [
    {
     "name": "stdout",
     "output_type": "stream",
     "text": [
      "runner\n",
      "runner\n",
      "dummy_func2\n"
     ]
    }
   ],
   "source": [
    "print(dummy_func.__name__, dummy_func1.__name__, dummy_func2.__name__, sep='\\n')"
   ]
  },
  {
   "cell_type": "markdown",
   "metadata": {
    "slideshow": {
     "slide_type": "slide"
    }
   },
   "source": [
    "### Why?\n",
    "\n",
    "```python\n",
    "def wrapper(func):\n",
    "    \"\"\" Simple decorator \"\"\"\n",
    "    print(f'Decorating {func.__name__}')\n",
    "    def runner(*args, **kwargs):\n",
    "        \"\"\" Simple runner \"\"\"\n",
    "        print(f'Executing {func.__name__}')\n",
    "        res = func(*args, **kwargs)\n",
    "        print(f'Executed {func.__name__}')\n",
    "        return res\n",
    "    return runner \n",
    "```"
   ]
  },
  {
   "cell_type": "markdown",
   "metadata": {
    "slideshow": {
     "slide_type": "fragment"
    }
   },
   "source": [
    "```python\n",
    "@wrapper\n",
    "def some_func(...):\n",
    "....\n",
    "```\n",
    "is equivalent to \n",
    "\n",
    "```python\n",
    "some_func = wrapper(some_func):\n",
    "....\n",
    "```\n"
   ]
  },
  {
   "cell_type": "markdown",
   "metadata": {
    "slideshow": {
     "slide_type": "skip"
    }
   },
   "source": [
    "Thanks to Python feature called **closure** internal function *runner* preserves content created when a function is decorated."
   ]
  },
  {
   "cell_type": "markdown",
   "metadata": {
    "slideshow": {
     "slide_type": "slide"
    }
   },
   "source": [
    "**Solution** - use *functools.wraps* decorator"
   ]
  },
  {
   "cell_type": "code",
   "execution_count": 8,
   "metadata": {},
   "outputs": [
    {
     "name": "stdout",
     "output_type": "stream",
     "text": [
      "Decorating another_cute_function\n"
     ]
    }
   ],
   "source": [
    "from functools import wraps\n",
    "def proper_wrapper(func):\n",
    "    \"\"\" Simple decorator \"\"\"\n",
    "    print(f'Decorating {func.__name__}')\n",
    "    @wraps(func)\n",
    "    def runner(*args, **kwargs):\n",
    "        \"\"\" Simple runner \"\"\"\n",
    "        print(f'Executing {func.__name__}')\n",
    "        res = func(*args, **kwargs)\n",
    "        print(f'Executed {func.__name__}')\n",
    "        return res\n",
    "    return runner \n",
    "\n",
    "@proper_wrapper\n",
    "def another_cute_function():\n",
    "    print('I should be properly decorated')"
   ]
  },
  {
   "cell_type": "code",
   "execution_count": 9,
   "metadata": {},
   "outputs": [
    {
     "name": "stdout",
     "output_type": "stream",
     "text": [
      "Executing another_cute_function\n",
      "I should be properly decorated\n",
      "Executed another_cute_function\n"
     ]
    }
   ],
   "source": [
    "another_cute_function()"
   ]
  },
  {
   "cell_type": "code",
   "execution_count": 10,
   "metadata": {},
   "outputs": [
    {
     "data": {
      "text/plain": [
       "'another_cute_function'"
      ]
     },
     "execution_count": 10,
     "metadata": {},
     "output_type": "execute_result"
    }
   ],
   "source": [
    "another_cute_function.__name__"
   ]
  },
  {
   "cell_type": "markdown",
   "metadata": {
    "slideshow": {
     "slide_type": "slide"
    }
   },
   "source": [
    "## Replacement decorator?!"
   ]
  },
  {
   "cell_type": "code",
   "execution_count": 11,
   "metadata": {
    "slideshow": {
     "slide_type": "-"
    }
   },
   "outputs": [],
   "source": [
    "def substitute_in_debug(func):\n",
    "    if DEBUG:\n",
    "        print(f'Replacing \"{func.__name__}\" with stub')\n",
    "        return lambda *_, **__: 'I am a substitute'\n",
    "    else:\n",
    "        print(f'Returning the original \"{func.__name__}\"')\n",
    "        return func"
   ]
  },
  {
   "cell_type": "code",
   "execution_count": 12,
   "metadata": {
    "slideshow": {
     "slide_type": "fragment"
    }
   },
   "outputs": [
    {
     "name": "stdout",
     "output_type": "stream",
     "text": [
      "Replacing \"real_mccoy\" with stub\n"
     ]
    }
   ],
   "source": [
    "DEBUG = True\n",
    "@substitute_in_debug\n",
    "def real_mccoy():\n",
    "    return 'I am real McCoy'"
   ]
  },
  {
   "cell_type": "code",
   "execution_count": 13,
   "metadata": {
    "slideshow": {
     "slide_type": "fragment"
    }
   },
   "outputs": [
    {
     "data": {
      "text/plain": [
       "'I am a substitute'"
      ]
     },
     "execution_count": 13,
     "metadata": {},
     "output_type": "execute_result"
    }
   ],
   "source": [
    "real_mccoy()"
   ]
  },
  {
   "cell_type": "markdown",
   "metadata": {
    "slideshow": {
     "slide_type": "slide"
    }
   },
   "source": [
    "**What if we change the flag?**\n",
    "```python\n",
    "def substitute_in_debug(func):\n",
    "    if DEBUG:\n",
    "        print(f'Replacing \"{func.__name__}\" with stub')\n",
    "        return lambda *_, **__: 'I am a substitute'\n",
    "    else:\n",
    "        Print\n",
    "        return func\n",
    "```"
   ]
  },
  {
   "cell_type": "code",
   "execution_count": 14,
   "metadata": {
    "slideshow": {
     "slide_type": "fragment"
    }
   },
   "outputs": [
    {
     "data": {
      "text/plain": [
       "'I am a substitute'"
      ]
     },
     "execution_count": 14,
     "metadata": {},
     "output_type": "execute_result"
    }
   ],
   "source": [
    "DEBUG = False\n",
    "real_mccoy() "
   ]
  },
  {
   "cell_type": "markdown",
   "metadata": {
    "slideshow": {
     "slide_type": "fragment"
    }
   },
   "source": [
    "**Decorator code executed at definition of decorated function!!!**"
   ]
  },
  {
   "cell_type": "code",
   "execution_count": 15,
   "metadata": {
    "slideshow": {
     "slide_type": "fragment"
    }
   },
   "outputs": [
    {
     "name": "stdout",
     "output_type": "stream",
     "text": [
      "Returning the original \"real_real_mccoy\"\n"
     ]
    },
    {
     "data": {
      "text/plain": [
       "'I am real real McCoy'"
      ]
     },
     "execution_count": 15,
     "metadata": {},
     "output_type": "execute_result"
    }
   ],
   "source": [
    "DEBUG = False\n",
    "@substitute_in_debug\n",
    "def real_real_mccoy():\n",
    "    return 'I am real real McCoy'\n",
    "real_real_mccoy()"
   ]
  },
  {
   "cell_type": "markdown",
   "metadata": {
    "slideshow": {
     "slide_type": "slide"
    }
   },
   "source": [
    "# Let us proceed to the fun part"
   ]
  },
  {
   "cell_type": "markdown",
   "metadata": {
    "collapsed": true,
    "slideshow": {
     "slide_type": "slide"
    }
   },
   "source": [
    "## Easily log function calls\n",
    "\n",
    "Decorator adds pre- and post-processing"
   ]
  },
  {
   "cell_type": "code",
   "execution_count": 16,
   "metadata": {
    "slideshow": {
     "slide_type": "slide"
    }
   },
   "outputs": [],
   "source": [
    "import logging\n",
    "from functools import wraps\n",
    "logging.basicConfig(level=logging.DEBUG)\n",
    " \n",
    "def logging_wrapper(func):\n",
    "    @wraps(func)\n",
    "    def logging_inner(*args, **kwargs):\n",
    "        kwargs_formatted = [f'{k}={repr(v)}' for k, v in kwargs.items()]\n",
    "        arg_string = ', '.join([repr(v) for v in args] + kwargs_formatted)\n",
    "        call_line = f'Func call: {func.__name__}({arg_string})'\n",
    "        try: \n",
    "            res = func(*args, **kwargs)\n",
    "            logging.debug(f'{call_line} - returns {repr(res)}')\n",
    "            return res\n",
    "        except Exception as exc:\n",
    "            logging.exception(call_line + ' caused exception!')\n",
    "    return logging_inner"
   ]
  },
  {
   "cell_type": "markdown",
   "metadata": {
    "slideshow": {
     "slide_type": "slide"
    }
   },
   "source": [
    "#### Now, decorate function of your choice\n"
   ]
  },
  {
   "cell_type": "code",
   "execution_count": 17,
   "metadata": {
    "slideshow": {
     "slide_type": "-"
    }
   },
   "outputs": [],
   "source": [
    "@logging_wrapper\n",
    "def add(x, y):\n",
    "    return x + y"
   ]
  },
  {
   "cell_type": "markdown",
   "metadata": {
    "slideshow": {
     "slide_type": "slide"
    }
   },
   "source": [
    "#### Shall we test?  \n"
   ]
  },
  {
   "cell_type": "code",
   "execution_count": 18,
   "metadata": {
    "slideshow": {
     "slide_type": "fragment"
    }
   },
   "outputs": [
    {
     "name": "stderr",
     "output_type": "stream",
     "text": [
      "DEBUG:root:Func call: add(1, 4) - returns 5\n"
     ]
    },
    {
     "data": {
      "text/plain": [
       "5"
      ]
     },
     "execution_count": 18,
     "metadata": {},
     "output_type": "execute_result"
    }
   ],
   "source": [
    "add(1, 4)"
   ]
  },
  {
   "cell_type": "code",
   "execution_count": 19,
   "metadata": {
    "slideshow": {
     "slide_type": "fragment"
    }
   },
   "outputs": [
    {
     "name": "stderr",
     "output_type": "stream",
     "text": [
      "ERROR:root:Func call: add(1, '4') caused exception!\n",
      "Traceback (most recent call last):\n",
      "  File \"<ipython-input-16-d44429f764a4>\", line 12, in logging_inner\n",
      "    res = func(*args, **kwargs)\n",
      "  File \"<ipython-input-17-5e4c59fc6abd>\", line 3, in add\n",
      "    return x + y\n",
      "TypeError: unsupported operand type(s) for +: 'int' and 'str'\n"
     ]
    }
   ],
   "source": [
    "add(1, '4')"
   ]
  },
  {
   "cell_type": "markdown",
   "metadata": {
    "slideshow": {
     "slide_type": "slide"
    }
   },
   "source": [
    "#### But what about keyword arguments?\n"
   ]
  },
  {
   "cell_type": "code",
   "execution_count": 20,
   "metadata": {
    "slideshow": {
     "slide_type": "-"
    }
   },
   "outputs": [],
   "source": [
    "@logging_wrapper\n",
    "def add(first, second=None):\n",
    "    return first + second"
   ]
  },
  {
   "cell_type": "code",
   "execution_count": 21,
   "metadata": {
    "slideshow": {
     "slide_type": "slide"
    }
   },
   "outputs": [
    {
     "name": "stderr",
     "output_type": "stream",
     "text": [
      "DEBUG:root:Func call: add(1, 4) - returns 5\n"
     ]
    },
    {
     "data": {
      "text/plain": [
       "5"
      ]
     },
     "execution_count": 21,
     "metadata": {},
     "output_type": "execute_result"
    }
   ],
   "source": [
    "add(1,4)"
   ]
  },
  {
   "cell_type": "code",
   "execution_count": 22,
   "metadata": {
    "slideshow": {
     "slide_type": "fragment"
    }
   },
   "outputs": [
    {
     "name": "stderr",
     "output_type": "stream",
     "text": [
      "DEBUG:root:Func call: add(1, second=4) - returns 5\n"
     ]
    },
    {
     "data": {
      "text/plain": [
       "5"
      ]
     },
     "execution_count": 22,
     "metadata": {},
     "output_type": "execute_result"
    }
   ],
   "source": [
    "add(1, second=4)\n"
   ]
  },
  {
   "cell_type": "code",
   "execution_count": 23,
   "metadata": {
    "slideshow": {
     "slide_type": "fragment"
    }
   },
   "outputs": [
    {
     "name": "stderr",
     "output_type": "stream",
     "text": [
      "ERROR:root:Func call: add(1, second='4') caused exception!\n",
      "Traceback (most recent call last):\n",
      "  File \"<ipython-input-16-d44429f764a4>\", line 12, in logging_inner\n",
      "    res = func(*args, **kwargs)\n",
      "  File \"<ipython-input-20-7bd47bc7e5b7>\", line 3, in add\n",
      "    return first + second\n",
      "TypeError: unsupported operand type(s) for +: 'int' and 'str'\n"
     ]
    }
   ],
   "source": [
    "add(1, second='4')"
   ]
  },
  {
   "cell_type": "markdown",
   "metadata": {
    "slideshow": {
     "slide_type": "slide"
    }
   },
   "source": [
    "## Static variables"
   ]
  },
  {
   "cell_type": "markdown",
   "metadata": {
    "slideshow": {
     "slide_type": "fragment"
    }
   },
   "source": [
    "#### No such animal in Python?! "
   ]
  },
  {
   "cell_type": "markdown",
   "metadata": {
    "slideshow": {
     "slide_type": "fragment"
    }
   },
   "source": [
    "#### Remember, you were told never to use default mutable values - but the language allows them?"
   ]
  },
  {
   "cell_type": "code",
   "execution_count": 24,
   "metadata": {
    "slideshow": {
     "slide_type": "subslide"
    }
   },
   "outputs": [],
   "source": [
    "def count_calls(_counter=[0]):\n",
    "    _counter[0] += 1\n",
    "    print (f'I was called {_counter[0]} times')"
   ]
  },
  {
   "cell_type": "code",
   "execution_count": 25,
   "metadata": {},
   "outputs": [
    {
     "name": "stdout",
     "output_type": "stream",
     "text": [
      "I was called 1 times\n"
     ]
    }
   ],
   "source": [
    "count_calls()"
   ]
  },
  {
   "cell_type": "markdown",
   "metadata": {
    "slideshow": {
     "slide_type": "slide"
    }
   },
   "source": [
    "#### What about function attribute?"
   ]
  },
  {
   "cell_type": "code",
   "execution_count": 26,
   "metadata": {
    "slideshow": {
     "slide_type": "-"
    }
   },
   "outputs": [],
   "source": [
    "def count_calls_take2():\n",
    "    count_calls_take2.cnt += 1\n",
    "    print (f'I was called {count_calls_take2.cnt} times')\n",
    "setattr(count_calls_take2, 'cnt', 0)"
   ]
  },
  {
   "cell_type": "code",
   "execution_count": 27,
   "metadata": {},
   "outputs": [
    {
     "name": "stdout",
     "output_type": "stream",
     "text": [
      "I was called 1 times\n"
     ]
    }
   ],
   "source": [
    "count_calls_take2()"
   ]
  },
  {
   "cell_type": "markdown",
   "metadata": {
    "slideshow": {
     "slide_type": "fragment"
    }
   },
   "source": [
    "It works, but it looks ugly. And if you need more than 1 \"static\" variable?"
   ]
  },
  {
   "cell_type": "markdown",
   "metadata": {
    "slideshow": {
     "slide_type": "slide"
    }
   },
   "source": [
    "#### But what if you could do it in more elegant way?\n",
    "\n",
    "Decorator modifies function object"
   ]
  },
  {
   "cell_type": "code",
   "execution_count": 28,
   "metadata": {
    "slideshow": {
     "slide_type": "fragment"
    }
   },
   "outputs": [],
   "source": [
    "def static_variables(**static_kw):\n",
    "    def static_setter(func):\n",
    "        for static_name, init_value in static_kw.items():\n",
    "            setattr(func, static_name, init_value)\n",
    "        return func\n",
    "    return static_setter"
   ]
  },
  {
   "cell_type": "markdown",
   "metadata": {
    "slideshow": {
     "slide_type": "fragment"
    }
   },
   "source": [
    "#### Now, just put it to work"
   ]
  },
  {
   "cell_type": "code",
   "execution_count": 29,
   "metadata": {
    "slideshow": {
     "slide_type": "fragment"
    }
   },
   "outputs": [],
   "source": [
    "@static_variables(cnt=0)\n",
    "def count_calls_take3():\n",
    "    count_calls_take3.cnt +=1\n",
    "    print(f'I was called {count_calls_take3.cnt} times')"
   ]
  },
  {
   "cell_type": "code",
   "execution_count": 30,
   "metadata": {
    "slideshow": {
     "slide_type": "fragment"
    }
   },
   "outputs": [
    {
     "name": "stdout",
     "output_type": "stream",
     "text": [
      "I was called 1 times\n"
     ]
    }
   ],
   "source": [
    "count_calls_take3()"
   ]
  },
  {
   "cell_type": "markdown",
   "metadata": {
    "slideshow": {
     "slide_type": "slide"
    }
   },
   "source": [
    "## Plurals for grammar freaks"
   ]
  },
  {
   "cell_type": "markdown",
   "metadata": {
    "slideshow": {
     "slide_type": "fragment"
    }
   },
   "source": [
    "There's a great standard decorator _singledispatch_ that allows your to create dispatcher on function's first argument.\n",
    "\n",
    "Sort of like function overloading."
   ]
  },
  {
   "cell_type": "markdown",
   "metadata": {
    "slideshow": {
     "slide_type": "slide"
    }
   },
   "source": [
    "Let us start by creating actual hard-working function that will try to define the proper plural form."
   ]
  },
  {
   "cell_type": "code",
   "execution_count": 31,
   "metadata": {
    "slideshow": {
     "slide_type": "fragment"
    }
   },
   "outputs": [],
   "source": [
    "import collections\n",
    "from functools import singledispatch\n",
    "\n",
    "def _make_plural(count, word):\n",
    "    if count == 1:\n",
    "        pass\n",
    "    elif word[-1] in 'sxz' or word[-2:] in {'sh', 'ch'}:\n",
    "        word += 'es'\n",
    "    elif word[-1] == 'y' and word[-2] not in 'aoeui':\n",
    "        word = word[:-1] + 'ies'\n",
    "    elif word[-1] == 'f':\n",
    "        word = word[:-1] + 'ves' \n",
    "    elif word[-2:] == 'fe':\n",
    "        word = word[:-2] + 'ves'\n",
    "    else:\n",
    "        word += 's'\n",
    "    return f'{count} {word}'"
   ]
  },
  {
   "cell_type": "markdown",
   "metadata": {
    "slideshow": {
     "slide_type": "slide"
    }
   },
   "source": [
    "#### Next step - we want to be able to use it both on numbers and iterables - lists, e.g."
   ]
  },
  {
   "cell_type": "code",
   "execution_count": 32,
   "metadata": {
    "slideshow": {
     "slide_type": "fragment"
    }
   },
   "outputs": [
    {
     "name": "stderr",
     "output_type": "stream",
     "text": [
      "<ipython-input-32-8191714870b0>:5: DeprecationWarning: Using or importing the ABCs from 'collections' instead of from 'collections.abc' is deprecated since Python 3.3, and in 3.9 it will stop working\n",
      "  @plural.register(collections.Iterable)\n"
     ]
    }
   ],
   "source": [
    "@singledispatch\n",
    "def plural(value, value_descr):\n",
    "    return _make_plural(value, value_descr)\n",
    "\n",
    "@plural.register(collections.Iterable)\n",
    "def _(value, value_descr):\n",
    "    return _make_plural(len(value), value_descr)"
   ]
  },
  {
   "cell_type": "markdown",
   "metadata": {
    "slideshow": {
     "slide_type": "slide"
    }
   },
   "source": [
    "#### Will it work?"
   ]
  },
  {
   "cell_type": "code",
   "execution_count": 33,
   "metadata": {
    "slideshow": {
     "slide_type": "fragment"
    }
   },
   "outputs": [
    {
     "name": "stdout",
     "output_type": "stream",
     "text": [
      "1 orange\n",
      "2 apples\n",
      "3 babies\n",
      "4 matches\n",
      "5 leaves\n",
      "6 knives\n",
      "3 fruits\n"
     ]
    }
   ],
   "source": [
    "print(plural(1, 'orange'),\n",
    "      plural(2, 'apple'),\n",
    "      plural(3, 'baby'),\n",
    "      plural(4, 'match'),\n",
    "      plural(5, 'leaf'),\n",
    "      plural(6, 'knife'),\n",
    "      plural(['apple', 'orange', 'grapefruit'], 'fruit'),\n",
    "      sep='\\n')"
   ]
  },
  {
   "cell_type": "markdown",
   "metadata": {
    "slideshow": {
     "slide_type": "slide"
    }
   },
   "source": [
    "## His Royal Majesty - Singleton"
   ]
  },
  {
   "cell_type": "markdown",
   "metadata": {
    "slideshow": {
     "slide_type": "fragment"
    }
   },
   "source": [
    "Python is not big on **Design Patterns**. But.. you need it"
   ]
  },
  {
   "cell_type": "markdown",
   "metadata": {
    "slideshow": {
     "slide_type": "fragment"
    }
   },
   "source": [
    "There is a wealth of methods - few of them KISS-able."
   ]
  },
  {
   "cell_type": "markdown",
   "metadata": {
    "slideshow": {
     "slide_type": "fragment"
    }
   },
   "source": [
    "There is an old Borg by [Alex Martinelli](http://code.activestate.com/recipes/66531-singleton-we-dont-need-no-stinkin-singleton-the-bo/)\n",
    "\n",
    "```python\n",
    "class Borg:\n",
    "    __shared_state = {}\n",
    "    def __init__(self):\n",
    "        self.__dict__ = self.__shared_state\n",
    "    # and whatever else you want in your class -- that's all!\n",
    "```\n",
    "\n",
    "Which essentially creates pseudo-singleton (sorry, not a fan)"
   ]
  },
  {
   "cell_type": "markdown",
   "metadata": {
    "slideshow": {
     "slide_type": "slide"
    }
   },
   "source": [
    "But, with a simple 7-line decorator"
   ]
  },
  {
   "cell_type": "code",
   "execution_count": 34,
   "metadata": {},
   "outputs": [],
   "source": [
    "def singleton(cls):\n",
    "    _seen = {}\n",
    "    def instantiator(*args, **kwargs):\n",
    "        if cls not in _seen:\n",
    "            _seen[cls] = cls(*args, **kwargs)\n",
    "        return _seen[cls]\n",
    "    return instantiator"
   ]
  },
  {
   "cell_type": "markdown",
   "metadata": {
    "slideshow": {
     "slide_type": "slide"
    }
   },
   "source": [
    "Let us create 2 different classes"
   ]
  },
  {
   "cell_type": "code",
   "execution_count": 35,
   "metadata": {},
   "outputs": [],
   "source": [
    "@singleton\n",
    "class Example:\n",
    "    pass\n",
    "\n",
    "@singleton\n",
    "class AnotherExample:\n",
    "    pass"
   ]
  },
  {
   "cell_type": "markdown",
   "metadata": {
    "slideshow": {
     "slide_type": "fragment"
    }
   },
   "source": [
    "... and test, whether they are real singletons"
   ]
  },
  {
   "cell_type": "code",
   "execution_count": 36,
   "metadata": {},
   "outputs": [
    {
     "name": "stdout",
     "output_type": "stream",
     "text": [
      "True False\n"
     ]
    }
   ],
   "source": [
    "test_subject_1 = Example()\n",
    "test_subject_2 = Example()\n",
    "another_test_subject = AnotherExample()\n",
    "\n",
    "print(test_subject_1 is test_subject_1, test_subject_1 is another_test_subject)"
   ]
  },
  {
   "cell_type": "markdown",
   "metadata": {
    "slideshow": {
     "slide_type": "fragment"
    }
   },
   "source": [
    "**It's alive!**"
   ]
  },
  {
   "cell_type": "markdown",
   "metadata": {
    "slideshow": {
     "slide_type": "slide"
    }
   },
   "source": [
    "## Self organizing class"
   ]
  },
  {
   "cell_type": "markdown",
   "metadata": {
    "slideshow": {
     "slide_type": "fragment"
    }
   },
   "source": [
    "#### What kind of animal is that?"
   ]
  },
  {
   "cell_type": "markdown",
   "metadata": {
    "slideshow": {
     "slide_type": "slide"
    }
   },
   "source": [
    "* You have an instance **self_organized** of a class **SelfOrganized** with methods **method_a**, **method_b**, etc."
   ]
  },
  {
   "cell_type": "markdown",
   "metadata": {
    "slideshow": {
     "slide_type": "fragment"
    }
   },
   "source": [
    "* You need to call **a**,**b**, **c** and **d** in that order."
   ]
  },
  {
   "cell_type": "markdown",
   "metadata": {
    "slideshow": {
     "slide_type": "fragment"
    }
   },
   "source": [
    "* You want to add new methods - **method_e** and **method_f** to the class - and add them to the execution list"
   ]
  },
  {
   "cell_type": "markdown",
   "metadata": {
    "slideshow": {
     "slide_type": "fragment"
    }
   },
   "source": [
    "* You want to make adding new methods to the class - and to the execution list - as hassle-free as possible"
   ]
  },
  {
   "cell_type": "markdown",
   "metadata": {
    "slideshow": {
     "slide_type": "slide"
    }
   },
   "source": [
    "## The reason?"
   ]
  },
  {
   "cell_type": "markdown",
   "metadata": {
    "slideshow": {
     "slide_type": "fragment"
    }
   },
   "source": [
    "* From my career - adding methods displaying widgets on image\n",
    "\n",
    "  * Widget list was growing\n",
    "\n",
    "  * I had no desire to distribute widgets \"manually\" "
   ]
  },
  {
   "cell_type": "markdown",
   "metadata": {
    "slideshow": {
     "slide_type": "fragment"
    }
   },
   "source": [
    "* Interview project with textual menu\n",
    "    * I wanted to show off\n",
    "    * ... and I did not get the job (for another reason)"
   ]
  },
  {
   "cell_type": "markdown",
   "metadata": {
    "slideshow": {
     "slide_type": "slide"
    }
   },
   "source": [
    "## How?"
   ]
  },
  {
   "cell_type": "markdown",
   "metadata": {
    "slideshow": {
     "slide_type": "slide"
    }
   },
   "source": [
    " * Create a decorator for self-arranging methods ([SO credit](https://stackoverflow.com/a/12718272/1381627))\n",
    "\n",
    "```python   \n",
    "@staticmethod\n",
    "def _make_menu_item(func, item_no=[0]):\n",
    "    \"\"\" Method decorator\n",
    "        Set func attribute `_item_idx` to mark decorated \n",
    "        function as menu item and use it to set order\n",
    "    \"\"\"\n",
    "    item_no[0] += 1\n",
    "    setattr(func, '_menu_idx', item_no[0])\n",
    "    return func\n",
    "_menu_enumerator = _make_menu_item.__func__\n",
    "```"
   ]
  },
  {
   "cell_type": "markdown",
   "metadata": {
    "slideshow": {
     "slide_type": "slide"
    }
   },
   "source": [
    "* Define methods to be part of self-arrangement\n",
    "\n",
    "```python\n",
    "@_menu_enumerator\n",
    "def one(self, *args, **kwargs):\n",
    "    print('You chose option 1. One is lonely.')\n",
    "\n",
    "@_menu_enumerator\n",
    "def two(self, *args, **kwargs):\n",
    "    print('You chose option 2. Two\\'s company.')\n",
    "```"
   ]
  },
  {
   "cell_type": "markdown",
   "metadata": {
    "slideshow": {
     "slide_type": "slide"
    }
   },
   "source": [
    "* Collect self-organizining methods\n",
    "```python\n",
    "def __init__(self):\n",
    "    all_attribs = (getattr(self, attr) for attr in dir(self))\n",
    "    menu_items = sorted((attr for attr in all_attribs \n",
    "                         if hasattr(attr, '_menu_idx')),\n",
    "                        key=lambda a: a._menu_idx)\n",
    "    self._menu = OrderedDict((str(m._menu_idx), m) \n",
    "                             for m in menu_items)\n",
    "```"
   ]
  },
  {
   "cell_type": "markdown",
   "metadata": {
    "slideshow": {
     "slide_type": "slide"
    }
   },
   "source": [
    "* Wrap function calls\n",
    "```python\n",
    "    def __call__(self):\n",
    "        while True:\n",
    "            print(self._menu_prompts)\n",
    "            choice = input('Your choice? ')\n",
    "            end_game = self._menu.get(choice, \n",
    "                                      self.bad_choice)()\n",
    "            if end_game:\n",
    "                break\n",
    "```"
   ]
  },
  {
   "cell_type": "markdown",
   "metadata": {
    "slideshow": {
     "slide_type": "slide"
    }
   },
   "source": [
    "### And now - the grand finale!"
   ]
  },
  {
   "cell_type": "code",
   "execution_count": 37,
   "metadata": {
    "slideshow": {
     "slide_type": "slide"
    }
   },
   "outputs": [],
   "source": [
    "from collections import OrderedDict\n",
    "\n",
    "class AutoMenu:\n",
    "    def __init__(self):\n",
    "        \"\"\"\n",
    "        Menu is built by collecting functions decorated with \"_menu_enumerator\"\n",
    "        \"\"\"\n",
    "        all_attribs = (getattr(self, attr) for attr in dir(self))\n",
    "        menu_items = sorted((attr for attr in all_attribs if hasattr(attr, '_menu_idx')),\n",
    "                             key=lambda a: a._menu_idx)\n",
    "        self._menu_prompts = '\\nMake your choice\\n' + '\\n'.join(\n",
    "            '{:2d} - {}'.format(f._menu_idx, f.__name__.replace('_', ' ').title())\n",
    "            for f in menu_items)\n",
    "        self._menu = OrderedDict((str(m._menu_idx), m) for m in menu_items)\n",
    "\n",
    "    @staticmethod\n",
    "    def _make_menu_item(func, item_no=[0]):\n",
    "        \"\"\" Method decorator\n",
    "            Mark decorated function as menu item by setting attribute\n",
    "            _item_idx and use it to set order\n",
    "        \"\"\"\n",
    "        item_no[0] += 1\n",
    "        setattr(func, '_menu_idx', item_no[0])\n",
    "        return func\n",
    "\n",
    "    _menu_enumerator = _make_menu_item.__func__\n",
    "\n",
    "    @_menu_enumerator\n",
    "    def one(self, *args, **kwargs):\n",
    "        print('One is lonely.')\n",
    "\n",
    "    @_menu_enumerator\n",
    "    def two(self, *args, **kwargs):\n",
    "        print('Two\\'s company.')\n",
    "\n",
    "    @_menu_enumerator\n",
    "    def four(self, *args, **kwargs):\n",
    "        print('Four is stuck in the middle!!!.')\n",
    "\n",
    "    @_menu_enumerator\n",
    "    def three(self, *args, **kwargs):\n",
    "        print('Three\\'s a crowd.')\n",
    "\n",
    "    @_menu_enumerator\n",
    "    def end_game(self, *args, **kwargs):\n",
    "        print('You chose to exit. Farewell.')\n",
    "        return True\n",
    "\n",
    "    def bad_choice(self):\n",
    "        print('Are you sure?')\n",
    "\n",
    "    def __call__(self):\n",
    "        while True:\n",
    "            print(self._menu_prompts)\n",
    "            choice = input('Your choice? ')\n",
    "            end_game = self._menu.get(choice, self.bad_choice)()\n",
    "            if end_game:\n",
    "                break"
   ]
  },
  {
   "cell_type": "code",
   "execution_count": 38,
   "metadata": {},
   "outputs": [
    {
     "name": "stdout",
     "output_type": "stream",
     "text": [
      "\n",
      "Make your choice\n",
      " 1 - One\n",
      " 2 - Two\n",
      " 3 - Four\n",
      " 4 - Three\n",
      " 5 - End Game\n",
      "Your choice? 5\n",
      "You chose to exit. Farewell.\n"
     ]
    }
   ],
   "source": [
    "AutoMenu()()"
   ]
  },
  {
   "cell_type": "markdown",
   "metadata": {
    "slideshow": {
     "slide_type": "slide"
    }
   },
   "source": [
    "For more fun stuff, see Facebook [Python Programming Language](https://www.facebook.com/groups/python.programmers/) group."
   ]
  }
 ],
 "metadata": {
  "celltoolbar": "Slideshow",
  "kernelspec": {
   "display_name": "Python 3",
   "language": "python",
   "name": "python3"
  },
  "language_info": {
   "codemirror_mode": {
    "name": "ipython",
    "version": 3
   },
   "file_extension": ".py",
   "mimetype": "text/x-python",
   "name": "python",
   "nbconvert_exporter": "python",
   "pygments_lexer": "ipython3",
   "version": "3.8.3"
  }
 },
 "nbformat": 4,
 "nbformat_minor": 2
}
