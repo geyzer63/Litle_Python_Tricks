{
  "cells": [
    {
      "metadata": {
        "slideshow": {
          "slide_type": "slide"
        }
      },
      "cell_type": "markdown",
      "source": "# What is Decorator?"
    },
    {
      "metadata": {
        "slideshow": {
          "slide_type": "fragment"
        }
      },
      "cell_type": "markdown",
      "source": "**Higher order** (**currying**) functions that are used as wrappers to other functions. \n\nThere are decorator classes too."
    },
    {
      "metadata": {
        "slideshow": {
          "slide_type": "fragment"
        }
      },
      "cell_type": "markdown",
      "source": "Decorators may either:"
    },
    {
      "metadata": {
        "slideshow": {
          "slide_type": "fragment"
        }
      },
      "cell_type": "markdown",
      "source": "- modify run-time behaviour of decorated function"
    },
    {
      "metadata": {
        "slideshow": {
          "slide_type": "fragment"
        }
      },
      "cell_type": "markdown",
      "source": "- modify decorated function object"
    },
    {
      "metadata": {
        "slideshow": {
          "slide_type": "slide"
        }
      },
      "cell_type": "markdown",
      "source": "# What Can You Do With Decorator?"
    },
    {
      "metadata": {
        "slideshow": {
          "slide_type": "fragment"
        }
      },
      "cell_type": "markdown",
      "source": "- Pre-process function arguments"
    },
    {
      "metadata": {
        "slideshow": {
          "slide_type": "fragment"
        }
      },
      "cell_type": "markdown",
      "source": "- Post-process return value and/or intercept exception(s)"
    },
    {
      "metadata": {
        "slideshow": {
          "slide_type": "fragment"
        }
      },
      "cell_type": "markdown",
      "source": "- Modify function object, e.g. add attributes"
    },
    {
      "metadata": {
        "slideshow": {
          "slide_type": "fragment"
        }
      },
      "cell_type": "markdown",
      "source": "- conditionally replace function object with another callable"
    },
    {
      "metadata": {
        "slideshow": {
          "slide_type": "fragment"
        }
      },
      "cell_type": "markdown",
      "source": "etc."
    },
    {
      "metadata": {
        "slideshow": {
          "slide_type": "slide"
        }
      },
      "cell_type": "markdown",
      "source": "# Decorator does ...."
    },
    {
      "metadata": {
        "slideshow": {
          "slide_type": "slide"
        }
      },
      "cell_type": "markdown",
      "source": "## Classic example - 2 tiered"
    },
    {
      "metadata": {
        "trusted": true
      },
      "cell_type": "code",
      "source": "def wrapper(func):\n    \"\"\" Simple decorator \"\"\"\n    print(f'Decorating {func.__name__}')\n    def runner(*args, **kwargs):\n        \"\"\" Simple runner \"\"\"\n        print(f'Executing {func.__name__}')\n        res = func(*args, **kwargs)\n        print(f'Executed {func.__name__}')\n        return res\n    return runner ",
      "execution_count": null,
      "outputs": []
    },
    {
      "metadata": {
        "slideshow": {
          "slide_type": "slide"
        }
      },
      "cell_type": "markdown",
      "source": "**How does it work?**\n```python\ndef wrapper(func):\n    \"\"\" Simple decorator \"\"\"\n    print(f'Decorating {func.__name__}')\n    def runner(*args, **kwargs):\n        \"\"\" Simple runner \"\"\"\n        print(f'Executing {func.__name__}')\n        res = func(*args, **kwargs)\n        print(f'Executed {func.__name__}')\n        return res\n    return runner \n```"
    },
    {
      "metadata": {
        "trusted": true,
        "slideshow": {
          "slide_type": "-"
        }
      },
      "cell_type": "code",
      "source": "@wrapper\ndef dummy_func():\n    \"\"\" Simple function \"\"\"\n    print(f'I am just here for POC')",
      "execution_count": null,
      "outputs": []
    },
    {
      "metadata": {
        "slideshow": {
          "slide_type": "fragment"
        },
        "trusted": true
      },
      "cell_type": "code",
      "source": "dummy_func()",
      "execution_count": null,
      "outputs": []
    },
    {
      "metadata": {
        "slideshow": {
          "slide_type": "slide"
        }
      },
      "cell_type": "markdown",
      "source": "**What happpens in decoration?**\n```python\ndef wrapper(func):\n    \"\"\" Simple decorator \"\"\"\n    print(f'Decorating {func.__name__}')\n    def runner(*args, **kwargs):\n        \"\"\" Simple runner \"\"\"\n        print(f'Executing {func.__name__}')\n        res = func(*args, **kwargs)\n        print(f'Executed {func.__name__}')\n        return res\n    return runner \n```"
    },
    {
      "metadata": {
        "slideshow": {
          "slide_type": "fragment"
        },
        "trusted": true
      },
      "cell_type": "code",
      "source": "def dummy_func1():\n    \"\"\" further proof function \"\"\"\n    print(f'I am just here for further proof')\n    \ndummy_func1 = wrapper(dummy_func1)",
      "execution_count": null,
      "outputs": []
    },
    {
      "metadata": {
        "slideshow": {
          "slide_type": "fragment"
        },
        "trusted": true
      },
      "cell_type": "code",
      "source": "dummy_func1()",
      "execution_count": null,
      "outputs": []
    },
    {
      "metadata": {
        "slideshow": {
          "slide_type": "subslide"
        }
      },
      "cell_type": "markdown",
      "source": "** You can even do that ** (Why?)\n```python\ndef wrapper(func):\n    \"\"\" Simple decorator \"\"\"\n    print(f'Decorating {func.__name__}')\n    def runner(*args, **kwargs):\n        \"\"\" Simple runner \"\"\"\n        print(f'Executing {func.__name__}')\n        res = func(*args, **kwargs)\n        print(f'Executed {func.__name__}')\n        return res\n    return runner \n```"
    },
    {
      "metadata": {
        "slideshow": {
          "slide_type": "fragment"
        },
        "trusted": true
      },
      "cell_type": "code",
      "source": "def dummy_func2():\n    \"\"\" Another function \"\"\"\n    print(f'I am just here for another proof')\nwrapper(dummy_func2)()",
      "execution_count": null,
      "outputs": []
    },
    {
      "metadata": {
        "slideshow": {
          "slide_type": "subslide"
        }
      },
      "cell_type": "markdown",
      "source": "## Anything I should be aware of?"
    },
    {
      "metadata": {
        "slideshow": {
          "slide_type": "fragment"
        },
        "trusted": true
      },
      "cell_type": "code",
      "source": "print(dummy_func.__name__, dummy_func1.__name__, dummy_func2.__name__, sep='\\n')",
      "execution_count": null,
      "outputs": []
    },
    {
      "metadata": {
        "slideshow": {
          "slide_type": "slide"
        }
      },
      "cell_type": "markdown",
      "source": "### Why?\n\n```python\ndef wrapper(func):\n    \"\"\" Simple decorator \"\"\"\n    print(f'Decorating {func.__name__}')\n    def runner(*args, **kwargs):\n        \"\"\" Simple runner \"\"\"\n        print(f'Executing {func.__name__}')\n        res = func(*args, **kwargs)\n        print(f'Executed {func.__name__}')\n        return res\n    return runner \n```"
    },
    {
      "metadata": {
        "slideshow": {
          "slide_type": "fragment"
        }
      },
      "cell_type": "markdown",
      "source": "```python\n@wrapper\ndef some_func(...):\n....\n```\nis equivalent to \n\n```python\nsome_func = wrapper(some_func):\n....\n```\n"
    },
    {
      "metadata": {
        "slideshow": {
          "slide_type": "skip"
        }
      },
      "cell_type": "markdown",
      "source": "Thanks to Python feature called **closure** internal function *runner* preserves content created when a function is decorated."
    },
    {
      "metadata": {
        "slideshow": {
          "slide_type": "slide"
        }
      },
      "cell_type": "markdown",
      "source": "**Solution** - use *functools.wraps* decorator"
    },
    {
      "metadata": {
        "trusted": true
      },
      "cell_type": "code",
      "source": "from functools import wraps\ndef proper_wrapper(func):\n    \"\"\" Simple decorator \"\"\"\n    print(f'Decorating {func.__name__}')\n    @wraps(func)\n    def runner(*args, **kwargs):\n        \"\"\" Simple runner \"\"\"\n        print(f'Executing {func.__name__}')\n        res = func(*args, **kwargs)\n        print(f'Executed {func.__name__}')\n        return res\n    return runner \n\n@proper_wrapper\ndef another_cute_function():\n    print('I should be properly decorated')",
      "execution_count": null,
      "outputs": []
    },
    {
      "metadata": {
        "trusted": true
      },
      "cell_type": "code",
      "source": "another_cute_function()",
      "execution_count": null,
      "outputs": []
    },
    {
      "metadata": {
        "trusted": true
      },
      "cell_type": "code",
      "source": "another_cute_function.__name__",
      "execution_count": null,
      "outputs": []
    },
    {
      "metadata": {
        "slideshow": {
          "slide_type": "slide"
        }
      },
      "cell_type": "markdown",
      "source": "## Replacement decorator?!"
    },
    {
      "metadata": {
        "slideshow": {
          "slide_type": "-"
        },
        "trusted": true
      },
      "cell_type": "code",
      "source": "def substitute_in_debug(func):\n    if DEBUG:\n        print(f'Replacing \"{func.__name__}\" with stub')\n        return lambda *_, **__: 'I am a substitute'\n    else:\n        print(f'Returning the original \"{func.__name__}\"')\n        return func",
      "execution_count": null,
      "outputs": []
    },
    {
      "metadata": {
        "slideshow": {
          "slide_type": "fragment"
        },
        "trusted": true
      },
      "cell_type": "code",
      "source": "DEBUG = True\n@substitute_in_debug\ndef real_mccoy():\n    return 'I am real McCoy'",
      "execution_count": null,
      "outputs": []
    },
    {
      "metadata": {
        "slideshow": {
          "slide_type": "fragment"
        },
        "trusted": true
      },
      "cell_type": "code",
      "source": "real_mccoy()",
      "execution_count": null,
      "outputs": []
    },
    {
      "metadata": {
        "slideshow": {
          "slide_type": "slide"
        }
      },
      "cell_type": "markdown",
      "source": "**What if we change the flag?**\n```python\ndef substitute_in_debug(func):\n    if DEBUG:\n        print(f'Replacing \"{func.__name__}\" with stub')\n        return lambda *_, **__: 'I am a substitute'\n    else:\n        Print\n        return func\n```"
    },
    {
      "metadata": {
        "slideshow": {
          "slide_type": "fragment"
        },
        "trusted": true
      },
      "cell_type": "code",
      "source": "DEBUG = False\nreal_mccoy() ",
      "execution_count": null,
      "outputs": []
    },
    {
      "metadata": {
        "slideshow": {
          "slide_type": "fragment"
        }
      },
      "cell_type": "markdown",
      "source": "**Decorator code executed at definition of decorated function!!!**"
    },
    {
      "metadata": {
        "slideshow": {
          "slide_type": "fragment"
        },
        "trusted": true
      },
      "cell_type": "code",
      "source": "DEBUG = False\n@substitute_in_debug\ndef real_real_mccoy():\n    return 'I am real real McCoy'\nreal_real_mccoy()",
      "execution_count": null,
      "outputs": []
    },
    {
      "metadata": {
        "slideshow": {
          "slide_type": "slide"
        }
      },
      "cell_type": "markdown",
      "source": "# Let us proceed to the fun part"
    },
    {
      "metadata": {
        "collapsed": true,
        "slideshow": {
          "slide_type": "slide"
        }
      },
      "cell_type": "markdown",
      "source": "## Easily log function calls\n\nDecorator adds pre- and post-processing"
    },
    {
      "metadata": {
        "slideshow": {
          "slide_type": "slide"
        },
        "trusted": true
      },
      "cell_type": "code",
      "source": "import logging\nfrom functools import wraps\nlogging.basicConfig(level=logging.DEBUG)\n \ndef logging_wrapper(func):\n    @wraps(func)\n    def logging_inner(*args, **kwargs):\n        kwargs_formatted = [f'{k}={repr(v)}' for k, v in kwargs.items()]\n        arg_string = ', '.join([repr(v) for v in args] + kwargs_formatted)\n        call_line = f'Func call: {func.__name__}({arg_string})'\n        try: \n            res = func(*args, **kwargs)\n            logging.debug(f'{call_line} - returns {repr(res)}')\n            return res\n        except Exception as exc:\n            logging.exception(call_line + ' caused exception!')\n    return logging_inner",
      "execution_count": null,
      "outputs": []
    },
    {
      "metadata": {
        "slideshow": {
          "slide_type": "slide"
        }
      },
      "cell_type": "markdown",
      "source": "#### Now, decorate function of your choice\n"
    },
    {
      "metadata": {
        "slideshow": {
          "slide_type": "-"
        },
        "trusted": true
      },
      "cell_type": "code",
      "source": "@logging_wrapper\ndef add(x, y):\n    return x + y",
      "execution_count": null,
      "outputs": []
    },
    {
      "metadata": {
        "slideshow": {
          "slide_type": "slide"
        }
      },
      "cell_type": "markdown",
      "source": "#### Shall we test?  \n"
    },
    {
      "metadata": {
        "slideshow": {
          "slide_type": "fragment"
        },
        "trusted": true
      },
      "cell_type": "code",
      "source": "add(1, 4)",
      "execution_count": null,
      "outputs": []
    },
    {
      "metadata": {
        "slideshow": {
          "slide_type": "fragment"
        },
        "trusted": true
      },
      "cell_type": "code",
      "source": "add(1, '4')",
      "execution_count": null,
      "outputs": []
    },
    {
      "metadata": {
        "slideshow": {
          "slide_type": "slide"
        }
      },
      "cell_type": "markdown",
      "source": "#### But what about keyword arguments?\n"
    },
    {
      "metadata": {
        "slideshow": {
          "slide_type": "-"
        },
        "trusted": true
      },
      "cell_type": "code",
      "source": "@logging_wrapper\ndef add(first, second=None):\n    return first + second",
      "execution_count": null,
      "outputs": []
    },
    {
      "metadata": {
        "slideshow": {
          "slide_type": "slide"
        },
        "trusted": true
      },
      "cell_type": "code",
      "source": "add(1,4)",
      "execution_count": null,
      "outputs": []
    },
    {
      "metadata": {
        "slideshow": {
          "slide_type": "fragment"
        },
        "trusted": true
      },
      "cell_type": "code",
      "source": "add(1, second=4)\n",
      "execution_count": null,
      "outputs": []
    },
    {
      "metadata": {
        "slideshow": {
          "slide_type": "fragment"
        },
        "trusted": true
      },
      "cell_type": "code",
      "source": "add(1, second='4')",
      "execution_count": null,
      "outputs": []
    },
    {
      "metadata": {
        "slideshow": {
          "slide_type": "slide"
        }
      },
      "cell_type": "markdown",
      "source": "## Static variables"
    },
    {
      "metadata": {
        "slideshow": {
          "slide_type": "fragment"
        }
      },
      "cell_type": "markdown",
      "source": "#### No such animal in Python?! "
    },
    {
      "metadata": {
        "slideshow": {
          "slide_type": "fragment"
        }
      },
      "cell_type": "markdown",
      "source": "#### Remember, you were told never to use default mutable values - but the language allows them?"
    },
    {
      "metadata": {
        "slideshow": {
          "slide_type": "subslide"
        },
        "trusted": true
      },
      "cell_type": "code",
      "source": "def count_calls(_counter=[0]):\n    _counter[0] += 1\n    print (f'I was called {_counter[0]} times')",
      "execution_count": null,
      "outputs": []
    },
    {
      "metadata": {
        "trusted": true
      },
      "cell_type": "code",
      "source": "count_calls()",
      "execution_count": null,
      "outputs": []
    },
    {
      "metadata": {
        "slideshow": {
          "slide_type": "slide"
        }
      },
      "cell_type": "markdown",
      "source": "#### What about function attribute?"
    },
    {
      "metadata": {
        "slideshow": {
          "slide_type": "-"
        },
        "trusted": true
      },
      "cell_type": "code",
      "source": "def count_calls_take2():\n    count_calls_take2.cnt += 1\n    print (f'I was called {count_calls_take2.cnt} times')\nsetattr(count_calls_take2, 'cnt', 0)",
      "execution_count": null,
      "outputs": []
    },
    {
      "metadata": {
        "trusted": true
      },
      "cell_type": "code",
      "source": "count_calls_take2()",
      "execution_count": null,
      "outputs": []
    },
    {
      "metadata": {
        "slideshow": {
          "slide_type": "fragment"
        }
      },
      "cell_type": "markdown",
      "source": "It works, but it looks ugly. And if you need more than 1 \"static\" variable?"
    },
    {
      "metadata": {
        "slideshow": {
          "slide_type": "slide"
        }
      },
      "cell_type": "markdown",
      "source": "#### But what if you could do it in more elegant way?\n\nDecorator modifies function object"
    },
    {
      "metadata": {
        "slideshow": {
          "slide_type": "fragment"
        },
        "trusted": true
      },
      "cell_type": "code",
      "source": "def static_variables(**static_kw):\n    def static_setter(func):\n        for static_name, init_value in static_kw.items():\n            setattr(func, static_name, init_value)\n        return func\n    return static_setter",
      "execution_count": null,
      "outputs": []
    },
    {
      "metadata": {
        "slideshow": {
          "slide_type": "fragment"
        }
      },
      "cell_type": "markdown",
      "source": "#### Now, just put it to work"
    },
    {
      "metadata": {
        "slideshow": {
          "slide_type": "fragment"
        },
        "trusted": true
      },
      "cell_type": "code",
      "source": "@static_variables(cnt=0)\ndef count_calls_take3():\n    count_calls_take3.cnt +=1\n    print(f'I was called {count_calls_take3.cnt} times')",
      "execution_count": null,
      "outputs": []
    },
    {
      "metadata": {
        "slideshow": {
          "slide_type": "fragment"
        },
        "trusted": true
      },
      "cell_type": "code",
      "source": "count_calls_take3()",
      "execution_count": null,
      "outputs": []
    },
    {
      "metadata": {
        "slideshow": {
          "slide_type": "slide"
        }
      },
      "cell_type": "markdown",
      "source": "## Plurals for grammar freaks"
    },
    {
      "metadata": {
        "slideshow": {
          "slide_type": "fragment"
        }
      },
      "cell_type": "markdown",
      "source": "There's a great standard decorator _singledispatch_ that allows your to create dispatcher on function's first argument.\n\nSort of like function overloading."
    },
    {
      "metadata": {
        "slideshow": {
          "slide_type": "slide"
        }
      },
      "cell_type": "markdown",
      "source": "Let us start by creating actual hard-working function that will try to define the proper plural form."
    },
    {
      "metadata": {
        "slideshow": {
          "slide_type": "fragment"
        },
        "trusted": true
      },
      "cell_type": "code",
      "source": "import collections\nfrom functools import singledispatch\n\ndef _make_plural(count, word):\n    if count == 1:\n        pass\n    elif word[-1] in 'sxz' or word[-2:] in {'sh', 'ch'}:\n        word += 'es'\n    elif word[-1] == 'y' and word[-2] not in 'aoeui':\n        word = word[:-1] + 'ies'\n    elif word[-1] == 'f':\n        word = word[:-1] + 'ves' \n    elif word[-2:] == 'fe':\n        word = word[:-2] + 'ves'\n    else:\n        word += 's'\n    return f'{count} {word}'",
      "execution_count": null,
      "outputs": []
    },
    {
      "metadata": {
        "slideshow": {
          "slide_type": "slide"
        }
      },
      "cell_type": "markdown",
      "source": "#### Next step - we want to be able to use it both on numbers and iterables - lists, e.g."
    },
    {
      "metadata": {
        "slideshow": {
          "slide_type": "fragment"
        },
        "trusted": true
      },
      "cell_type": "code",
      "source": "@singledispatch\ndef plural(value, value_descr):\n    return _make_plural(value, value_descr)\n\n@plural.register(collections.Iterable)\ndef _(value, value_descr):\n    return _make_plural(len(value), value_descr)",
      "execution_count": null,
      "outputs": []
    },
    {
      "metadata": {
        "slideshow": {
          "slide_type": "slide"
        }
      },
      "cell_type": "markdown",
      "source": "#### Will it work?"
    },
    {
      "metadata": {
        "slideshow": {
          "slide_type": "fragment"
        },
        "trusted": true
      },
      "cell_type": "code",
      "source": "print(plural(1, 'orange'),\n      plural(2, 'apple'),\n      plural(3, 'baby'),\n      plural(4, 'match'),\n      plural(5, 'leaf'),\n      plural(6, 'knife'),\n      plural(['apple', 'orange', 'grapefruit'], 'fruit'),\n      sep='\\n')",
      "execution_count": null,
      "outputs": []
    },
    {
      "metadata": {
        "slideshow": {
          "slide_type": "slide"
        }
      },
      "cell_type": "markdown",
      "source": "## His Royal Majesty - Singleton"
    },
    {
      "metadata": {
        "slideshow": {
          "slide_type": "fragment"
        }
      },
      "cell_type": "markdown",
      "source": "Python is not big on **Design Patterns**. But.. you need it"
    },
    {
      "metadata": {
        "slideshow": {
          "slide_type": "fragment"
        }
      },
      "cell_type": "markdown",
      "source": "There is a wealth of methods - few of them KISS-able."
    },
    {
      "metadata": {
        "slideshow": {
          "slide_type": "fragment"
        }
      },
      "cell_type": "markdown",
      "source": "There is an old Borg by [Alex Martinelli](http://code.activestate.com/recipes/66531-singleton-we-dont-need-no-stinkin-singleton-the-bo/)\n\n```python\nclass Borg:\n    __shared_state = {}\n    def __init__(self):\n        self.__dict__ = self.__shared_state\n    # and whatever else you want in your class -- that's all!\n```\n\nWhich essentially creates pseudo-singleton (sorry, not a fan)"
    },
    {
      "metadata": {
        "slideshow": {
          "slide_type": "slide"
        }
      },
      "cell_type": "markdown",
      "source": "But, with a simple 7-line decorator"
    },
    {
      "metadata": {
        "trusted": true
      },
      "cell_type": "code",
      "source": "def singleton(cls):\n    _seen = {}\n    def instantiator(*args, **kwargs):\n        if cls not in _seen:\n            _seen[cls] = cls(*args, **kwargs)\n        return _seen[cls]\n    return instantiator",
      "execution_count": null,
      "outputs": []
    },
    {
      "metadata": {
        "slideshow": {
          "slide_type": "slide"
        }
      },
      "cell_type": "markdown",
      "source": "Let us create 2 different classes"
    },
    {
      "metadata": {
        "trusted": true
      },
      "cell_type": "code",
      "source": "@singleton\nclass Example:\n    pass\n\n@singleton\nclass AnotherExample:\n    pass",
      "execution_count": null,
      "outputs": []
    },
    {
      "metadata": {
        "slideshow": {
          "slide_type": "fragment"
        }
      },
      "cell_type": "markdown",
      "source": "... and test, whether they are real singletons"
    },
    {
      "metadata": {
        "trusted": true
      },
      "cell_type": "code",
      "source": "test_subject_1 = Example()\ntest_subject_2 = Example()\nanother_test_subject = AnotherExample()\n\nprint(test_subject_1 is test_subject_1, test_subject_1 is another_test_subject)",
      "execution_count": null,
      "outputs": []
    },
    {
      "metadata": {
        "slideshow": {
          "slide_type": "fragment"
        }
      },
      "cell_type": "markdown",
      "source": "**It's alive!**"
    },
    {
      "metadata": {
        "slideshow": {
          "slide_type": "slide"
        }
      },
      "cell_type": "markdown",
      "source": "## Self organizing class"
    },
    {
      "metadata": {
        "slideshow": {
          "slide_type": "fragment"
        }
      },
      "cell_type": "markdown",
      "source": "#### What kind of animal is that?"
    },
    {
      "metadata": {
        "slideshow": {
          "slide_type": "slide"
        }
      },
      "cell_type": "markdown",
      "source": "* You have an instance **self_organized** of a class **SelfOrganized** with methods **method_a**, **method_b**, etc."
    },
    {
      "metadata": {
        "slideshow": {
          "slide_type": "fragment"
        }
      },
      "cell_type": "markdown",
      "source": "* You need to call **a**,**b**, **c** and **d** in that order."
    },
    {
      "metadata": {
        "slideshow": {
          "slide_type": "fragment"
        }
      },
      "cell_type": "markdown",
      "source": "* You want to add new methods - **method_e** and **method_f** to the class - and add them to the execution list"
    },
    {
      "metadata": {
        "slideshow": {
          "slide_type": "fragment"
        }
      },
      "cell_type": "markdown",
      "source": "* You want to make adding new methods to the class - and to the execution list - as hassle-free as possible"
    },
    {
      "metadata": {
        "slideshow": {
          "slide_type": "slide"
        }
      },
      "cell_type": "markdown",
      "source": "## The reason?"
    },
    {
      "metadata": {
        "slideshow": {
          "slide_type": "fragment"
        }
      },
      "cell_type": "markdown",
      "source": "* From my career - adding methods displaying widgets on image\n\n  * Widget list was growing\n\n  * I had no desire to distribute widgets \"manually\" "
    },
    {
      "metadata": {
        "slideshow": {
          "slide_type": "fragment"
        }
      },
      "cell_type": "markdown",
      "source": "* Interview project with textual menu\n    * I wanted to show off\n    * ... and I did not get the job (for another reason)"
    },
    {
      "metadata": {
        "slideshow": {
          "slide_type": "slide"
        }
      },
      "cell_type": "markdown",
      "source": "## How?"
    },
    {
      "metadata": {
        "slideshow": {
          "slide_type": "slide"
        }
      },
      "cell_type": "markdown",
      "source": " * Create a decorator for self-arranging methods ([SO credit](https://stackoverflow.com/a/12718272/1381627))\n\n```python   \n@staticmethod\ndef _make_menu_item(func, item_no=[0]):\n    \"\"\" Method decorator\n        Set func attribute `_item_idx` to mark decorated \n        function as menu item and use it to set order\n    \"\"\"\n    item_no[0] += 1\n    setattr(func, '_menu_idx', item_no[0])\n    return func\n_menu_enumerator = _make_menu_item.__func__\n```"
    },
    {
      "metadata": {
        "slideshow": {
          "slide_type": "slide"
        }
      },
      "cell_type": "markdown",
      "source": "* Define methods to be part of self-arrangement\n\n```python\n@_menu_enumerator\ndef one(self, *args, **kwargs):\n    print('You chose option 1. One is lonely.')\n\n@_menu_enumerator\ndef two(self, *args, **kwargs):\n    print('You chose option 2. Two\\'s company.')\n```"
    },
    {
      "metadata": {
        "slideshow": {
          "slide_type": "slide"
        }
      },
      "cell_type": "markdown",
      "source": "* Collect self-organizining methods\n```python\ndef __init__(self):\n    all_attribs = (getattr(self, attr) for attr in dir(self))\n    menu_items = sorted((attr for attr in all_attribs \n                         if hasattr(attr, '_menu_idx')),\n                        key=lambda a: a._menu_idx)\n    self._menu = OrderedDict((str(m._menu_idx), m) \n                             for m in menu_items)\n```"
    },
    {
      "metadata": {
        "slideshow": {
          "slide_type": "slide"
        }
      },
      "cell_type": "markdown",
      "source": "* Wrap function calls\n```python\n    def __call__(self):\n        while True:\n            print(self._menu_prompts)\n            choice = input('Your choice? ')\n            end_game = self._menu.get(choice, \n                                      self.bad_choice)()\n            if end_game:\n                break\n```"
    },
    {
      "metadata": {
        "slideshow": {
          "slide_type": "slide"
        }
      },
      "cell_type": "markdown",
      "source": "### And now - the grand finale!"
    },
    {
      "metadata": {
        "slideshow": {
          "slide_type": "slide"
        },
        "trusted": true
      },
      "cell_type": "code",
      "source": "from collections import OrderedDict\n\nclass AutoMenu:\n    def __init__(self):\n        \"\"\"\n        Menu is built by collecting functions decorated with \"_menu_enumerator\"\n        \"\"\"\n        all_attribs = (getattr(self, attr) for attr in dir(self))\n        menu_items = sorted((attr for attr in all_attribs if hasattr(attr, '_menu_idx')),\n                             key=lambda a: a._menu_idx)\n        self._menu_prompts = '\\nMake your choice\\n' + '\\n'.join(\n            '{:2d} - {}'.format(f._menu_idx, f.__name__.replace('_', ' ').title())\n            for f in menu_items)\n        self._menu = OrderedDict((str(m._menu_idx), m) for m in menu_items)\n\n    @staticmethod\n    def _make_menu_item(func, item_no=[0]):\n        \"\"\" Method decorator\n            Mark decorated function as menu item by setting attribute\n            _item_idx and use it to set order\n        \"\"\"\n        item_no[0] += 1\n        setattr(func, '_menu_idx', item_no[0])\n        return func\n\n    _menu_enumerator = _make_menu_item.__func__\n\n    @_menu_enumerator\n    def one(self, *args, **kwargs):\n        print('One is lonely.')\n\n    @_menu_enumerator\n    def two(self, *args, **kwargs):\n        print('Two\\'s company.')\n\n    @_menu_enumerator\n    def four(self, *args, **kwargs):\n        print('Four is stuck in the middle!!!.')\n\n    @_menu_enumerator\n    def three(self, *args, **kwargs):\n        print('Three\\'s a crowd.')\n\n    @_menu_enumerator\n    def end_game(self, *args, **kwargs):\n        print('You chose to exit. Farewell.')\n        return True\n\n    def bad_choice(self):\n        print('Are you sure?')\n\n    def __call__(self):\n        while True:\n            print(self._menu_prompts)\n            choice = input('Your choice? ')\n            end_game = self._menu.get(choice, self.bad_choice)()\n            if end_game:\n                break",
      "execution_count": null,
      "outputs": []
    },
    {
      "metadata": {
        "trusted": true
      },
      "cell_type": "code",
      "source": "AutoMenu()()",
      "execution_count": null,
      "outputs": []
    },
    {
      "metadata": {
        "trusted": true,
        "slideshow": {
          "slide_type": "slide"
        }
      },
      "cell_type": "markdown",
      "source": "For more fun stuff, see Facebook [Python Programming Language](https://www.facebook.com/groups/python.programmers/) group."
    }
  ],
  "metadata": {
    "kernelspec": {
      "name": "python36",
      "display_name": "Python 3.6",
      "language": "python"
    },
    "language_info": {
      "mimetype": "text/x-python",
      "nbconvert_exporter": "python",
      "name": "python",
      "pygments_lexer": "ipython3",
      "version": "3.6.6",
      "file_extension": ".py",
      "codemirror_mode": {
        "version": 3,
        "name": "ipython"
      }
    },
    "celltoolbar": "Slideshow"
  },
  "nbformat": 4,
  "nbformat_minor": 2
}