{
  "cells": [
    {
      "metadata": {
        "collapsed": true,
        "slideshow": {
          "slide_type": "slide"
        }
      },
      "cell_type": "markdown",
      "source": "# Easily log function calls"
    },
    {
      "metadata": {
        "slideshow": {
          "slide_type": "subslide"
        },
        "trusted": true
      },
      "cell_type": "code",
      "source": "import logging\nfrom functools import wraps\nlogging.basicConfig(level=logging.DEBUG)\n \ndef logging_wrapper(func):\n    @wraps(func)\n    def logging_inner(*args, **kwargs):\n        kwargs_formatted = ['{}={}'.format(k, repr(v)) for k, v in kwargs.items()]\n        call_line = 'Func call: {}({})'.format(func.__name__, \n                                    ', '.join([repr(v) for v in args] + kwargs_formatted))\n        try:\n            res = func(*args, **kwargs)\n            logging.debug('{} - returns {}'.format(call_line, repr(res)))\n            return res\n        except Exception as exc:\n            logging.exception(call_line + ' caused exception!')\n    return logging_inner",
      "execution_count": 2,
      "outputs": []
    },
    {
      "metadata": {
        "slideshow": {
          "slide_type": "slide"
        }
      },
      "cell_type": "markdown",
      "source": "#### Now, decorate function of your choice\n"
    },
    {
      "metadata": {
        "slideshow": {
          "slide_type": "-"
        },
        "trusted": true
      },
      "cell_type": "code",
      "source": "@logging_wrapper\ndef add(x, y):\n    return x + y",
      "execution_count": 3,
      "outputs": []
    },
    {
      "metadata": {
        "slideshow": {
          "slide_type": "subslide"
        }
      },
      "cell_type": "markdown",
      "source": "#### Shall we test?  \n"
    },
    {
      "metadata": {
        "slideshow": {
          "slide_type": "fragment"
        },
        "trusted": true
      },
      "cell_type": "code",
      "source": "add(1, 4)",
      "execution_count": 4,
      "outputs": [
        {
          "output_type": "stream",
          "text": "DEBUG:root:Func call: add(1, 4) - returns 5\n",
          "name": "stderr"
        },
        {
          "output_type": "execute_result",
          "execution_count": 4,
          "data": {
            "text/plain": "5"
          },
          "metadata": {}
        }
      ]
    },
    {
      "metadata": {
        "slideshow": {
          "slide_type": "fragment"
        },
        "trusted": true
      },
      "cell_type": "code",
      "source": "add(1, '4')",
      "execution_count": 5,
      "outputs": [
        {
          "output_type": "stream",
          "text": "ERROR:root:Func call: add(1, '4') caused exception!\nTraceback (most recent call last):\n  File \"<ipython-input-2-492f65d61994>\", line 12, in logging_inner\n    res = func(*args, **kwargs)\n  File \"<ipython-input-3-5e4c59fc6abd>\", line 3, in add\n    return x + y\nTypeError: unsupported operand type(s) for +: 'int' and 'str'\n",
          "name": "stderr"
        }
      ]
    },
    {
      "metadata": {
        "slideshow": {
          "slide_type": "slide"
        }
      },
      "cell_type": "markdown",
      "source": "#### But what about named arguments?\n"
    },
    {
      "metadata": {
        "slideshow": {
          "slide_type": "-"
        },
        "trusted": true
      },
      "cell_type": "code",
      "source": "@logging_wrapper\ndef add(first, second=None):\n    return first + second",
      "execution_count": 6,
      "outputs": []
    },
    {
      "metadata": {
        "slideshow": {
          "slide_type": "subslide"
        },
        "trusted": true
      },
      "cell_type": "code",
      "source": "add(1,4)",
      "execution_count": 7,
      "outputs": [
        {
          "output_type": "stream",
          "text": "DEBUG:root:Func call: add(1, 4) - returns 5\n",
          "name": "stderr"
        },
        {
          "output_type": "execute_result",
          "execution_count": 7,
          "data": {
            "text/plain": "5"
          },
          "metadata": {}
        }
      ]
    },
    {
      "metadata": {
        "slideshow": {
          "slide_type": "fragment"
        },
        "trusted": true
      },
      "cell_type": "code",
      "source": "add(1, second=4)\n",
      "execution_count": 8,
      "outputs": [
        {
          "output_type": "stream",
          "text": "DEBUG:root:Func call: add(1, second=4) - returns 5\n",
          "name": "stderr"
        },
        {
          "output_type": "execute_result",
          "execution_count": 8,
          "data": {
            "text/plain": "5"
          },
          "metadata": {}
        }
      ]
    },
    {
      "metadata": {
        "slideshow": {
          "slide_type": "fragment"
        },
        "trusted": true
      },
      "cell_type": "code",
      "source": "add(1, second='4')",
      "execution_count": 9,
      "outputs": [
        {
          "output_type": "stream",
          "text": "ERROR:root:Func call: add(1, second='4') caused exception!\nTraceback (most recent call last):\n  File \"<ipython-input-2-492f65d61994>\", line 12, in logging_inner\n    res = func(*args, **kwargs)\n  File \"<ipython-input-6-7bd47bc7e5b7>\", line 3, in add\n    return first + second\nTypeError: unsupported operand type(s) for +: 'int' and 'str'\n",
          "name": "stderr"
        }
      ]
    },
    {
      "metadata": {
        "slideshow": {
          "slide_type": "slide"
        }
      },
      "cell_type": "markdown",
      "source": "# Static variables"
    },
    {
      "metadata": {
        "slideshow": {
          "slide_type": "fragment"
        }
      },
      "cell_type": "markdown",
      "source": "#### No such animal in Python?! "
    },
    {
      "metadata": {
        "slideshow": {
          "slide_type": "fragment"
        }
      },
      "cell_type": "markdown",
      "source": "#### Remember, you were told never to use default mutable values - but the language allows them?"
    },
    {
      "metadata": {
        "slideshow": {
          "slide_type": "subslide"
        },
        "trusted": true
      },
      "cell_type": "code",
      "source": "def count_calls(_counter=[0]):\n    _counter[0] += 1\n    print (f'I was called {_counter[0]} times')",
      "execution_count": 10,
      "outputs": []
    },
    {
      "metadata": {
        "trusted": true
      },
      "cell_type": "code",
      "source": "count_calls()",
      "execution_count": 13,
      "outputs": [
        {
          "output_type": "stream",
          "text": "I was called 3 times\n",
          "name": "stdout"
        }
      ]
    },
    {
      "metadata": {
        "slideshow": {
          "slide_type": "subslide"
        }
      },
      "cell_type": "markdown",
      "source": "#### What about function attribute?"
    },
    {
      "metadata": {
        "slideshow": {
          "slide_type": "-"
        },
        "trusted": true
      },
      "cell_type": "code",
      "source": "def count_calls_take2():\n    count_calls_take2.cnt += 1\n    print (f'I was called {count_calls_take2.cnt} times')\nsetattr(count_calls_take2, 'cnt', 0)",
      "execution_count": 14,
      "outputs": []
    },
    {
      "metadata": {
        "trusted": true
      },
      "cell_type": "code",
      "source": "count_calls_take2()",
      "execution_count": 17,
      "outputs": [
        {
          "output_type": "stream",
          "text": "I was called 3 times\n",
          "name": "stdout"
        }
      ]
    },
    {
      "metadata": {
        "slideshow": {
          "slide_type": "fragment"
        }
      },
      "cell_type": "markdown",
      "source": "It works, but it looks ugly. And if you need more than 1 \"static\" variable?"
    },
    {
      "metadata": {
        "slideshow": {
          "slide_type": "slide"
        }
      },
      "cell_type": "markdown",
      "source": "#### But what if you could do it in more elegant way?"
    },
    {
      "metadata": {
        "slideshow": {
          "slide_type": "subslide"
        },
        "trusted": true
      },
      "cell_type": "code",
      "source": "def static_variables(**static_kw):\n    def static_setter(func):\n        for static_name, init_value in static_kw.items():\n            setattr(func, static_name, init_value)\n        return func\n    return static_setter",
      "execution_count": 18,
      "outputs": []
    },
    {
      "metadata": {
        "slideshow": {
          "slide_type": "subslide"
        }
      },
      "cell_type": "markdown",
      "source": "#### Now, just put it to work"
    },
    {
      "metadata": {
        "slideshow": {
          "slide_type": "fragment"
        },
        "trusted": true
      },
      "cell_type": "code",
      "source": "@static_variables(cnt=0)\ndef count_calls_take3():\n    count_calls_take3.cnt +=1\n    print(f'I was called {count_calls_take3.cnt} times')",
      "execution_count": 19,
      "outputs": []
    },
    {
      "metadata": {
        "slideshow": {
          "slide_type": "fragment"
        },
        "trusted": true
      },
      "cell_type": "code",
      "source": "count_calls_take3()",
      "execution_count": 22,
      "outputs": [
        {
          "output_type": "stream",
          "text": "I was called 3 times\n",
          "name": "stdout"
        }
      ]
    },
    {
      "metadata": {
        "slideshow": {
          "slide_type": "slide"
        }
      },
      "cell_type": "markdown",
      "source": "# Plurals for grammar freaks"
    },
    {
      "metadata": {
        "slideshow": {
          "slide_type": "fragment"
        }
      },
      "cell_type": "markdown",
      "source": "There's a great standard decorator _singledispatch_ that allows your to create dispatcher on function's first parameter. Sort of like function overloading."
    },
    {
      "metadata": {
        "slideshow": {
          "slide_type": "subslide"
        }
      },
      "cell_type": "markdown",
      "source": "Let us start by creating actual hard-working function that will try to define the proper plural form."
    },
    {
      "metadata": {
        "slideshow": {
          "slide_type": "fragment"
        },
        "trusted": true
      },
      "cell_type": "code",
      "source": "import collections\nfrom functools import singledispatch\n\ndef _make_plural(count, word):\n    if count == 1:\n        pass\n    elif word[-1] in 'sxz' or word[-2:] in {'sh', 'ch'}:\n        word += 'es'\n    elif word[-1] == 'y' and word[-2] not in 'aoeui':\n        word = word[:-1] + 'ies'\n    elif word[-1] == 'f':\n        word = word[:-1] + 'ves' \n    elif word[-2:] == 'fe':\n        word = word[:-2] + 'ves'\n    else:\n        word += 's'\n    return f'{count} {word}'",
      "execution_count": 24,
      "outputs": []
    },
    {
      "metadata": {
        "slideshow": {
          "slide_type": "subslide"
        }
      },
      "cell_type": "markdown",
      "source": "#### Next step - we want to be able to use it both on numbers and iterables - lists, e.g."
    },
    {
      "metadata": {
        "slideshow": {
          "slide_type": "fragment"
        },
        "trusted": true
      },
      "cell_type": "code",
      "source": "@singledispatch\ndef plural(value, value_descr):\n    return _make_plural(value, value_descr)\n\n@plural.register(collections.Iterable)\ndef _(value, value_descr):\n    return _make_plural(len(value), value_descr)",
      "execution_count": 25,
      "outputs": []
    },
    {
      "metadata": {
        "slideshow": {
          "slide_type": "subslide"
        }
      },
      "cell_type": "markdown",
      "source": "#### Will it work?"
    },
    {
      "metadata": {
        "slideshow": {
          "slide_type": "fragment"
        },
        "trusted": true
      },
      "cell_type": "code",
      "source": "print(plural(1, 'orange'),\n      plural(2, 'apple'),\n      plural(3, 'baby'),\n      plural(4, 'match'),\n      plural(5, 'leaf'),\n      plural(6, 'knife'),\n      plural(['apple', 'orange', 'grapefruit'], 'fruit'),\n      sep='\\n')",
      "execution_count": 26,
      "outputs": [
        {
          "output_type": "stream",
          "text": "1 orange\n2 apples\n3 babies\n4 matches\n5 leaves\n6 knives\n3 fruits\n",
          "name": "stdout"
        }
      ]
    },
    {
      "metadata": {
        "slideshow": {
          "slide_type": "slide"
        }
      },
      "cell_type": "markdown",
      "source": "# Self organizing class"
    },
    {
      "metadata": {
        "slideshow": {
          "slide_type": "fragment"
        }
      },
      "cell_type": "markdown",
      "source": "#### What kind of animal is that?"
    },
    {
      "metadata": {
        "slideshow": {
          "slide_type": "subslide"
        }
      },
      "cell_type": "markdown",
      "source": "* You have an instance **self_organized** of a class **SelfOrganized** with methods **a**, **b**, **c** and **d**"
    },
    {
      "metadata": {
        "slideshow": {
          "slide_type": "fragment"
        }
      },
      "cell_type": "markdown",
      "source": "* You need to call **a**,**b**, **c** and **d** in that order."
    },
    {
      "metadata": {
        "slideshow": {
          "slide_type": "fragment"
        }
      },
      "cell_type": "markdown",
      "source": "* You want to add new methods **e** and **f** to the class - and add them to the execution list"
    },
    {
      "metadata": {
        "slideshow": {
          "slide_type": "fragment"
        }
      },
      "cell_type": "markdown",
      "source": "* You want to make adding new methods to the class - and to the execution list - as hassle-free as possible"
    },
    {
      "metadata": {
        "slideshow": {
          "slide_type": "slide"
        }
      },
      "cell_type": "markdown",
      "source": "## The reason?"
    },
    {
      "metadata": {
        "slideshow": {
          "slide_type": "fragment"
        }
      },
      "cell_type": "markdown",
      "source": "* From my career - adding methods displaying widgets on image\n\n  * Widget list was growing\n\n  * I had no desire to distribute widgets \"manually\" "
    },
    {
      "metadata": {
        "slideshow": {
          "slide_type": "fragment"
        }
      },
      "cell_type": "markdown",
      "source": "* Interview project with textual menu\n    * I wanted to show off\n    * ... and I did not get the job (for another reason)"
    },
    {
      "metadata": {
        "slideshow": {
          "slide_type": "slide"
        }
      },
      "cell_type": "markdown",
      "source": "## How?"
    },
    {
      "metadata": {
        "slideshow": {
          "slide_type": "subslide"
        }
      },
      "cell_type": "markdown",
      "source": " * Create a decorator for self-arranging methods ([SO credit](https://stackoverflow.com/a/12718272/1381627))\n```python   \n@staticmethod\ndef _make_menu_item(func, item_no=[0]):\n    \"\"\" Method decorator\n        Mark decorated function as menu item by setting attribute\n        _item_idx and use it to set order\n    \"\"\"\n    item_no[0] += 1\n    setattr(func, '_menu_idx', item_no[0])\n    return func\n_menu_enumerator = _make_menu_item.__func__```"
    },
    {
      "metadata": {
        "slideshow": {
          "slide_type": "subslide"
        }
      },
      "cell_type": "markdown",
      "source": "* Define methods to be part of self-arrangement\n\n```python\n@_menu_enumerator\ndef one(self, *args, **kwargs):\n    print('You chose option 1. One is lonely.')\n\n@_menu_enumerator\ndef two(self, *args, **kwargs):\n    print('You chose option 2. Two\\'s company.')\n```"
    },
    {
      "metadata": {
        "slideshow": {
          "slide_type": "subslide"
        }
      },
      "cell_type": "markdown",
      "source": "* Collect self-organizining methods\n```python\ndef __init__(self):\n    all_attribs = (getattr(self, attr) for attr in dir(self))\n    menu_items = sorted((attr for attr in all_attribs \n                         if hasattr(attr, '_menu_idx')),\n                        key=lambda a: a._menu_idx)\n    self._menu = OrderedDict((str(m._menu_idx), m) \n                             for m in menu_items)```"
    },
    {
      "metadata": {
        "slideshow": {
          "slide_type": "subslide"
        }
      },
      "cell_type": "markdown",
      "source": "* Wrap function calls\n```python\n    def __call__(self):\n        while True:\n            print(self._menu_prompts)\n            choice = input('Your choice? ')\n            end_game = self._menu.get(choice, self.bad_choice)()\n            if end_game:\n                break\n```"
    },
    {
      "metadata": {
        "slideshow": {
          "slide_type": "subslide"
        }
      },
      "cell_type": "markdown",
      "source": "### And now - the grand finale!"
    },
    {
      "metadata": {
        "slideshow": {
          "slide_type": "subslide"
        },
        "trusted": true
      },
      "cell_type": "code",
      "source": "from collections import OrderedDict\n\nclass AutoMenu:\n    def __init__(self):\n        \"\"\"\n        Menu is built by collecting functions decorated with \"_menu_enumerator\"\n        \"\"\"\n        all_attribs = (getattr(self, attr) for attr in dir(self))\n        menu_items = sorted((attr for attr in all_attribs if hasattr(attr, '_menu_idx')),\n                            key=lambda a: a._menu_idx)\n        self._menu_prompts = '\\nMake your choice\\n' + '\\n'.join(\n            '{:2d} - {}'.format(f._menu_idx, f.__name__.replace('_', ' ').title())\n            for f in menu_items)\n        self._menu = OrderedDict((str(m._menu_idx), m) for m in menu_items)\n\n    @staticmethod\n    def _make_menu_item(func, item_no=[0]):\n        \"\"\" Method decorator\n            Mark decorated function as menu item by setting attribute\n            _item_idx and use it to set order\n        \"\"\"\n        item_no[0] += 1\n        setattr(func, '_menu_idx', item_no[0])\n        return func\n\n    _menu_enumerator = _make_menu_item.__func__\n\n    @_menu_enumerator\n    def one(self, *args, **kwargs):\n        print('You chose option 1. One is lonely.')\n\n    @_menu_enumerator\n    def two(self, *args, **kwargs):\n        print('You chose option 2. Two\\'s company.')\n\n    @_menu_enumerator\n    def four(self, *args, **kwargs):\n        print('You chose option 4. Four is too much.')\n\n    @_menu_enumerator\n    def three(self, *args, **kwargs):\n        print('You chose option 3. Three\\'s a crowd.')\n\n    @_menu_enumerator\n    def end_game(self, *args, **kwargs):\n        print('You chose to exit. Farewell.')\n        return True\n\n    def bad_choice(self):\n        print('Are you sure?')\n\n    def __call__(self):\n        while True:\n            print(self._menu_prompts)\n            choice = input('Your choice? ')\n            end_game = self._menu.get(choice, self.bad_choice)()\n            if end_game:\n                break",
      "execution_count": 29,
      "outputs": []
    },
    {
      "metadata": {
        "trusted": true,
        "slideshow": {
          "slide_type": "slide"
        }
      },
      "cell_type": "markdown",
      "source": "For more fun stuff, see Facebook [Python Programmin Language](https://www.facebook.com/groups/python.programmers/) group."
    }
  ],
  "metadata": {
    "kernelspec": {
      "name": "python36",
      "display_name": "Python 3.6",
      "language": "python"
    },
    "language_info": {
      "mimetype": "text/x-python",
      "nbconvert_exporter": "python",
      "name": "python",
      "pygments_lexer": "ipython3",
      "version": "3.6.6",
      "file_extension": ".py",
      "codemirror_mode": {
        "version": 3,
        "name": "ipython"
      }
    }
  },
  "nbformat": 4,
  "nbformat_minor": 2
}