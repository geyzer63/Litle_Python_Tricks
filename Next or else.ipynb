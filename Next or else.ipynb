{
  "cells": [
    {
      "metadata": {
        "collapsed": true,
        "slideshow": {
          "slide_type": "slide"
        }
      },
      "cell_type": "markdown",
      "source": "# Next, or else...."
    },
    {
      "metadata": {
        "collapsed": true,
        "slideshow": {
          "slide_type": "fragment"
        }
      },
      "cell_type": "markdown",
      "source": "Any self-respecting Pythonista should have heard of _iter_."
    },
    {
      "metadata": {
        "collapsed": true,
        "slideshow": {
          "slide_type": "fragment"
        }
      },
      "cell_type": "markdown",
      "source": "But how many of you are aware of its sibling _next_? "
    },
    {
      "metadata": {
        "collapsed": true,
        "slideshow": {
          "slide_type": "fragment"
        }
      },
      "cell_type": "markdown",
      "source": "Or that loops have a useful _else_ clause?                       "
    },
    {
      "metadata": {
        "collapsed": true,
        "slideshow": {
          "slide_type": "slide"
        }
      },
      "cell_type": "markdown",
      "source": "You process some sequence - list, dictionary, generator. \n\nYour task - check if at least one of the elements satisfies some predicate. \n\nIs there just one way?"
    },
    {
      "metadata": {
        "collapsed": true,
        "slideshow": {
          "slide_type": "slide"
        }
      },
      "cell_type": "markdown",
      "source": "Enter Shreck characters."
    },
    {
      "metadata": {
        "trusted": true,
        "slideshow": {
          "slide_type": "fragment"
        }
      },
      "cell_type": "code",
      "source": "characters = { \n    'Shrek': 'surly',\n    'Fiona': 'cheerful',\n    'Fairy Godmother': 'devious',\n    'Donkey': 'annoying',\n    'Rumple': 'devious'\n}",
      "execution_count": 1,
      "outputs": []
    },
    {
      "metadata": {
        "collapsed": true,
        "slideshow": {
          "slide_type": "slide"
        }
      },
      "cell_type": "markdown",
      "source": "Our goal - find out if anyone among them is ugly. Or devious. \n\n**Let's start!**"
    },
    {
      "metadata": {
        "slideshow": {
          "slide_type": "subslide"
        }
      },
      "cell_type": "markdown",
      "source": "### This code is ugly!!!"
    },
    {
      "metadata": {
        "trusted": true,
        "slideshow": {
          "slide_type": "fragment"
        }
      },
      "cell_type": "code",
      "source": "found_ugly = False\nfor character, virtue in characters.items():\n    if virtue == 'ugly':\n        print('{} is ugly'.format(character))\n        found_ugly = True\n        break\nif not found_ugly:\n    print('Hooray - No uglies!!')",
      "execution_count": 2,
      "outputs": [
        {
          "output_type": "stream",
          "text": "Hooray - No uglies!!\n",
          "name": "stdout"
        }
      ]
    },
    {
      "metadata": {
        "slideshow": {
          "slide_type": "slide"
        }
      },
      "cell_type": "markdown",
      "source": "### This is Pythonic\n"
    },
    {
      "metadata": {
        "trusted": true,
        "slideshow": {
          "slide_type": "fragment"
        }
      },
      "cell_type": "code",
      "source": "for character, virtue in characters.items():\n    if virtue == 'ugly':\n        print('{} is ugly'.format(character))\n        break\nelse:\n    print('Hooray - No uglies!!')",
      "execution_count": 3,
      "outputs": [
        {
          "output_type": "stream",
          "text": "Hooray - No uglies!!\n",
          "name": "stdout"
        }
      ]
    },
    {
      "metadata": {
        "slideshow": {
          "slide_type": "slide"
        }
      },
      "cell_type": "markdown",
      "source": "### This is ugly and unsafe + no lazy evaluation"
    },
    {
      "metadata": {
        "trusted": true,
        "slideshow": {
          "slide_type": "fragment"
        }
      },
      "cell_type": "code",
      "source": "any_devious = [c for c, v in characters.items() if v == 'devious'][0]\nprint(any_devious)",
      "execution_count": 4,
      "outputs": [
        {
          "output_type": "stream",
          "text": "Fairy Godmother\n",
          "name": "stdout"
        }
      ]
    },
    {
      "metadata": {
        "slideshow": {
          "slide_type": "fragment"
        },
        "trusted": true
      },
      "cell_type": "code",
      "source": "any_ugly = [c for c, v in characters.items() if v == 'ugly'][0]\nprint(any_ugly)",
      "execution_count": 8,
      "outputs": [
        {
          "output_type": "error",
          "ename": "IndexError",
          "evalue": "list index out of range",
          "traceback": [
            "\u001b[0;31m---------------------------------------------------------------------------\u001b[0m",
            "\u001b[0;31mIndexError\u001b[0m                                Traceback (most recent call last)",
            "\u001b[0;32m<ipython-input-8-9dc09940f11b>\u001b[0m in \u001b[0;36m<module>\u001b[0;34m\u001b[0m\n\u001b[0;32m----> 1\u001b[0;31m \u001b[0many_ugly\u001b[0m \u001b[0;34m=\u001b[0m \u001b[0;34m[\u001b[0m\u001b[0mc\u001b[0m \u001b[0;32mfor\u001b[0m \u001b[0mc\u001b[0m\u001b[0;34m,\u001b[0m \u001b[0mv\u001b[0m \u001b[0;32min\u001b[0m \u001b[0mcharacters\u001b[0m\u001b[0;34m.\u001b[0m\u001b[0mitems\u001b[0m\u001b[0;34m(\u001b[0m\u001b[0;34m)\u001b[0m \u001b[0;32mif\u001b[0m \u001b[0mv\u001b[0m \u001b[0;34m==\u001b[0m \u001b[0;34m'ugly'\u001b[0m\u001b[0;34m]\u001b[0m\u001b[0;34m[\u001b[0m\u001b[0;36m0\u001b[0m\u001b[0;34m]\u001b[0m\u001b[0;34m\u001b[0m\u001b[0m\n\u001b[0m\u001b[1;32m      2\u001b[0m \u001b[0mprint\u001b[0m\u001b[0;34m(\u001b[0m\u001b[0many_ugly\u001b[0m\u001b[0;34m)\u001b[0m\u001b[0;34m\u001b[0m\u001b[0m\n",
            "\u001b[0;31mIndexError\u001b[0m: list index out of range"
          ]
        }
      ]
    },
    {
      "metadata": {
        "slideshow": {
          "slide_type": "subslide"
        }
      },
      "cell_type": "markdown",
      "source": "### You can protect yourself with an additional test"
    },
    {
      "metadata": {
        "trusted": true,
        "slideshow": {
          "slide_type": "fragment"
        }
      },
      "cell_type": "code",
      "source": "any_ugly = [c for c, v in characters.items() if v == 'ugly']\nprint('Found ugly in Shrek\\'s characters - {}'.format(any_ugly[0] if any_ugly else 'None'))",
      "execution_count": 6,
      "outputs": [
        {
          "output_type": "stream",
          "text": "Found ugly in Shrek's characters - None\n",
          "name": "stdout"
        }
      ]
    },
    {
      "metadata": {
        "slideshow": {
          "slide_type": "fragment"
        }
      },
      "cell_type": "markdown",
      "source": "### But do you want to?"
    },
    {
      "metadata": {
        "slideshow": {
          "slide_type": "slide"
        }
      },
      "cell_type": "markdown",
      "source": "### Pythonic - and lazy (evaluation)!"
    },
    {
      "metadata": {
        "trusted": true,
        "slideshow": {
          "slide_type": "fragment"
        }
      },
      "cell_type": "code",
      "source": "any_ugly = next((c for c, v in characters.items() if v == 'ugly'), 'No, no uglies here')\nprint(f'Is anyone ugly among Shrek\\'s characters? - {any_ugly}')\nany_devious = next((c for c, v in characters.items() if v == 'devious'), 'No, no one is devious')\nprint(f'Is anyone devious among Shrek\\'s characters? - {any_devious}')",
      "execution_count": 7,
      "outputs": [
        {
          "output_type": "stream",
          "text": "Is anyone ugly among Shrek's characters? - No, no uglies here\nIs anyone devious among Shrek's characters? - Fairy Godmother\n",
          "name": "stdout"
        }
      ]
    },
    {
      "metadata": {
        "slideshow": {
          "slide_type": "slide"
        }
      },
      "cell_type": "markdown",
      "source": "### Disclaimer\nThe incomplete list of characters above is not meant to discriminate against any omitted character on the base of that character race, sex, sexual orientation or religious believes."
    },
    {
      "metadata": {
        "slideshow": {
          "slide_type": "slide"
        }
      },
      "cell_type": "markdown",
      "source": "For more fun stuff, check out Facebook [Python Programmin Language](https://www.facebook.com/groups/python.programmers/) group."
    }
  ],
  "metadata": {
    "kernelspec": {
      "name": "python36",
      "display_name": "Python 3.6",
      "language": "python"
    },
    "language_info": {
      "mimetype": "text/x-python",
      "nbconvert_exporter": "python",
      "name": "python",
      "pygments_lexer": "ipython3",
      "version": "3.6.6",
      "file_extension": ".py",
      "codemirror_mode": {
        "version": 3,
        "name": "ipython"
      }
    }
  },
  "nbformat": 4,
  "nbformat_minor": 2
}